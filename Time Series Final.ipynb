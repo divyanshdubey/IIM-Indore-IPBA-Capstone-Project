{
 "cells": [
  {
   "cell_type": "code",
   "execution_count": 1,
   "id": "213c2a5b",
   "metadata": {},
   "outputs": [],
   "source": [
    "\n",
    "\n",
    "import numpy as np\n",
    "import pandas as pd\n",
    "\n",
    "import matplotlib.pyplot as plt\n",
    "%matplotlib inline\n",
    "\n"
   ]
  },
  {
   "cell_type": "code",
   "execution_count": 2,
   "id": "25ed1b85",
   "metadata": {},
   "outputs": [],
   "source": [
    "df1= pd.read_excel(\"Timeseries_new.xlsx\")\n"
   ]
  },
  {
   "cell_type": "code",
   "execution_count": 3,
   "id": "879c0bba",
   "metadata": {},
   "outputs": [
    {
     "data": {
      "text/html": [
       "<div>\n",
       "<style scoped>\n",
       "    .dataframe tbody tr th:only-of-type {\n",
       "        vertical-align: middle;\n",
       "    }\n",
       "\n",
       "    .dataframe tbody tr th {\n",
       "        vertical-align: top;\n",
       "    }\n",
       "\n",
       "    .dataframe thead th {\n",
       "        text-align: right;\n",
       "    }\n",
       "</style>\n",
       "<table border=\"1\" class=\"dataframe\">\n",
       "  <thead>\n",
       "    <tr style=\"text-align: right;\">\n",
       "      <th></th>\n",
       "      <th>Arrival</th>\n",
       "      <th>Room_Rate</th>\n",
       "    </tr>\n",
       "  </thead>\n",
       "  <tbody>\n",
       "    <tr>\n",
       "      <th>0</th>\n",
       "      <td>2019-12-31</td>\n",
       "      <td>4023.61</td>\n",
       "    </tr>\n",
       "    <tr>\n",
       "      <th>1</th>\n",
       "      <td>2019-12-31</td>\n",
       "      <td>4000.00</td>\n",
       "    </tr>\n",
       "    <tr>\n",
       "      <th>2</th>\n",
       "      <td>2019-12-31</td>\n",
       "      <td>4588.42</td>\n",
       "    </tr>\n",
       "    <tr>\n",
       "      <th>3</th>\n",
       "      <td>2019-12-30</td>\n",
       "      <td>5299.00</td>\n",
       "    </tr>\n",
       "    <tr>\n",
       "      <th>4</th>\n",
       "      <td>2019-12-30</td>\n",
       "      <td>5589.00</td>\n",
       "    </tr>\n",
       "    <tr>\n",
       "      <th>...</th>\n",
       "      <td>...</td>\n",
       "      <td>...</td>\n",
       "    </tr>\n",
       "    <tr>\n",
       "      <th>91246</th>\n",
       "      <td>2017-12-09</td>\n",
       "      <td>3582.74</td>\n",
       "    </tr>\n",
       "    <tr>\n",
       "      <th>91247</th>\n",
       "      <td>2017-12-04</td>\n",
       "      <td>5250.00</td>\n",
       "    </tr>\n",
       "    <tr>\n",
       "      <th>91248</th>\n",
       "      <td>2017-12-01</td>\n",
       "      <td>4404.15</td>\n",
       "    </tr>\n",
       "    <tr>\n",
       "      <th>91249</th>\n",
       "      <td>2017-10-31</td>\n",
       "      <td>3637.86</td>\n",
       "    </tr>\n",
       "    <tr>\n",
       "      <th>91250</th>\n",
       "      <td>2017-07-01</td>\n",
       "      <td>4822.92</td>\n",
       "    </tr>\n",
       "  </tbody>\n",
       "</table>\n",
       "<p>91251 rows × 2 columns</p>\n",
       "</div>"
      ],
      "text/plain": [
       "         Arrival  Room_Rate\n",
       "0     2019-12-31    4023.61\n",
       "1     2019-12-31    4000.00\n",
       "2     2019-12-31    4588.42\n",
       "3     2019-12-30    5299.00\n",
       "4     2019-12-30    5589.00\n",
       "...          ...        ...\n",
       "91246 2017-12-09    3582.74\n",
       "91247 2017-12-04    5250.00\n",
       "91248 2017-12-01    4404.15\n",
       "91249 2017-10-31    3637.86\n",
       "91250 2017-07-01    4822.92\n",
       "\n",
       "[91251 rows x 2 columns]"
      ]
     },
     "execution_count": 3,
     "metadata": {},
     "output_type": "execute_result"
    }
   ],
   "source": [
    "df1"
   ]
  },
  {
   "cell_type": "code",
   "execution_count": 4,
   "id": "75a64bd4-4299-4599-b671-6e7845003e6b",
   "metadata": {},
   "outputs": [
    {
     "data": {
      "text/plain": [
       "Arrival      0\n",
       "Room_Rate    0\n",
       "dtype: int64"
      ]
     },
     "execution_count": 4,
     "metadata": {},
     "output_type": "execute_result"
    }
   ],
   "source": [
    "df1.isnull().sum()"
   ]
  },
  {
   "cell_type": "code",
   "execution_count": 5,
   "id": "b8bf705a-bc8e-432c-8ecb-f13f5b524163",
   "metadata": {},
   "outputs": [],
   "source": [
    "df1=df1.rename(columns={\"Arrival\": \"Date\", \"Room_Rate\": \"Total\"})"
   ]
  },
  {
   "cell_type": "code",
   "execution_count": 6,
   "id": "9977c30e-e958-4b66-848b-3975913d70ba",
   "metadata": {},
   "outputs": [],
   "source": [
    "df=df1.groupby(['Date']).sum()"
   ]
  },
  {
   "cell_type": "code",
   "execution_count": 7,
   "id": "a392421f",
   "metadata": {},
   "outputs": [],
   "source": [
    "# df=df1.drop_duplicates(keep = False)"
   ]
  },
  {
   "cell_type": "code",
   "execution_count": 8,
   "id": "e84b60be",
   "metadata": {},
   "outputs": [
    {
     "data": {
      "text/html": [
       "<div>\n",
       "<style scoped>\n",
       "    .dataframe tbody tr th:only-of-type {\n",
       "        vertical-align: middle;\n",
       "    }\n",
       "\n",
       "    .dataframe tbody tr th {\n",
       "        vertical-align: top;\n",
       "    }\n",
       "\n",
       "    .dataframe thead th {\n",
       "        text-align: right;\n",
       "    }\n",
       "</style>\n",
       "<table border=\"1\" class=\"dataframe\">\n",
       "  <thead>\n",
       "    <tr style=\"text-align: right;\">\n",
       "      <th></th>\n",
       "      <th>Total</th>\n",
       "    </tr>\n",
       "    <tr>\n",
       "      <th>Date</th>\n",
       "      <th></th>\n",
       "    </tr>\n",
       "  </thead>\n",
       "  <tbody>\n",
       "    <tr>\n",
       "      <th>2017-07-01</th>\n",
       "      <td>4822.92</td>\n",
       "    </tr>\n",
       "    <tr>\n",
       "      <th>2017-10-31</th>\n",
       "      <td>3637.86</td>\n",
       "    </tr>\n",
       "    <tr>\n",
       "      <th>2017-12-01</th>\n",
       "      <td>4404.15</td>\n",
       "    </tr>\n",
       "    <tr>\n",
       "      <th>2017-12-04</th>\n",
       "      <td>5250.00</td>\n",
       "    </tr>\n",
       "    <tr>\n",
       "      <th>2017-12-09</th>\n",
       "      <td>3582.74</td>\n",
       "    </tr>\n",
       "    <tr>\n",
       "      <th>...</th>\n",
       "      <td>...</td>\n",
       "    </tr>\n",
       "    <tr>\n",
       "      <th>2019-12-27</th>\n",
       "      <td>706916.01</td>\n",
       "    </tr>\n",
       "    <tr>\n",
       "      <th>2019-12-28</th>\n",
       "      <td>787527.73</td>\n",
       "    </tr>\n",
       "    <tr>\n",
       "      <th>2019-12-29</th>\n",
       "      <td>428261.99</td>\n",
       "    </tr>\n",
       "    <tr>\n",
       "      <th>2019-12-30</th>\n",
       "      <td>254375.48</td>\n",
       "    </tr>\n",
       "    <tr>\n",
       "      <th>2019-12-31</th>\n",
       "      <td>12612.03</td>\n",
       "    </tr>\n",
       "  </tbody>\n",
       "</table>\n",
       "<p>749 rows × 1 columns</p>\n",
       "</div>"
      ],
      "text/plain": [
       "                Total\n",
       "Date                 \n",
       "2017-07-01    4822.92\n",
       "2017-10-31    3637.86\n",
       "2017-12-01    4404.15\n",
       "2017-12-04    5250.00\n",
       "2017-12-09    3582.74\n",
       "...               ...\n",
       "2019-12-27  706916.01\n",
       "2019-12-28  787527.73\n",
       "2019-12-29  428261.99\n",
       "2019-12-30  254375.48\n",
       "2019-12-31   12612.03\n",
       "\n",
       "[749 rows x 1 columns]"
      ]
     },
     "execution_count": 8,
     "metadata": {},
     "output_type": "execute_result"
    }
   ],
   "source": [
    "df"
   ]
  },
  {
   "cell_type": "code",
   "execution_count": 9,
   "id": "5558c5e6-2a05-44c8-b35a-7cb66249aa7f",
   "metadata": {},
   "outputs": [],
   "source": [
    "# Creating a new DF\n",
    "\n",
    "dfn = pd.DataFrame(columns = ['Date', 'Total'])"
   ]
  },
  {
   "cell_type": "code",
   "execution_count": 10,
   "id": "6f220651",
   "metadata": {},
   "outputs": [
    {
     "data": {
      "text/html": [
       "<div>\n",
       "<style scoped>\n",
       "    .dataframe tbody tr th:only-of-type {\n",
       "        vertical-align: middle;\n",
       "    }\n",
       "\n",
       "    .dataframe tbody tr th {\n",
       "        vertical-align: top;\n",
       "    }\n",
       "\n",
       "    .dataframe thead th {\n",
       "        text-align: right;\n",
       "    }\n",
       "</style>\n",
       "<table border=\"1\" class=\"dataframe\">\n",
       "  <thead>\n",
       "    <tr style=\"text-align: right;\">\n",
       "      <th></th>\n",
       "      <th>Date</th>\n",
       "      <th>Total</th>\n",
       "    </tr>\n",
       "  </thead>\n",
       "  <tbody>\n",
       "  </tbody>\n",
       "</table>\n",
       "</div>"
      ],
      "text/plain": [
       "Empty DataFrame\n",
       "Columns: [Date, Total]\n",
       "Index: []"
      ]
     },
     "execution_count": 10,
     "metadata": {},
     "output_type": "execute_result"
    }
   ],
   "source": [
    "dfn.head()"
   ]
  },
  {
   "cell_type": "code",
   "execution_count": 11,
   "id": "b302596c",
   "metadata": {},
   "outputs": [],
   "source": [
    "# Giving manual values of Date column from 1/1/18 to 31/12/19\n",
    "\n",
    "dfn['Date'] = pd.date_range(start='1/1/2018', end = \"31/12/2019\", freq='D')"
   ]
  },
  {
   "cell_type": "code",
   "execution_count": 12,
   "id": "9c367c74",
   "metadata": {},
   "outputs": [
    {
     "data": {
      "text/html": [
       "<div>\n",
       "<style scoped>\n",
       "    .dataframe tbody tr th:only-of-type {\n",
       "        vertical-align: middle;\n",
       "    }\n",
       "\n",
       "    .dataframe tbody tr th {\n",
       "        vertical-align: top;\n",
       "    }\n",
       "\n",
       "    .dataframe thead th {\n",
       "        text-align: right;\n",
       "    }\n",
       "</style>\n",
       "<table border=\"1\" class=\"dataframe\">\n",
       "  <thead>\n",
       "    <tr style=\"text-align: right;\">\n",
       "      <th></th>\n",
       "      <th>Date</th>\n",
       "      <th>Total</th>\n",
       "    </tr>\n",
       "  </thead>\n",
       "  <tbody>\n",
       "    <tr>\n",
       "      <th>0</th>\n",
       "      <td>2018-01-01</td>\n",
       "      <td>NaN</td>\n",
       "    </tr>\n",
       "    <tr>\n",
       "      <th>1</th>\n",
       "      <td>2018-01-02</td>\n",
       "      <td>NaN</td>\n",
       "    </tr>\n",
       "    <tr>\n",
       "      <th>2</th>\n",
       "      <td>2018-01-03</td>\n",
       "      <td>NaN</td>\n",
       "    </tr>\n",
       "    <tr>\n",
       "      <th>3</th>\n",
       "      <td>2018-01-04</td>\n",
       "      <td>NaN</td>\n",
       "    </tr>\n",
       "    <tr>\n",
       "      <th>4</th>\n",
       "      <td>2018-01-05</td>\n",
       "      <td>NaN</td>\n",
       "    </tr>\n",
       "  </tbody>\n",
       "</table>\n",
       "</div>"
      ],
      "text/plain": [
       "        Date Total\n",
       "0 2018-01-01   NaN\n",
       "1 2018-01-02   NaN\n",
       "2 2018-01-03   NaN\n",
       "3 2018-01-04   NaN\n",
       "4 2018-01-05   NaN"
      ]
     },
     "execution_count": 12,
     "metadata": {},
     "output_type": "execute_result"
    }
   ],
   "source": [
    "dfn.head()"
   ]
  },
  {
   "cell_type": "code",
   "execution_count": 13,
   "id": "a944b547",
   "metadata": {},
   "outputs": [],
   "source": [
    "lj_df = pd.merge(dfn, \n",
    "                     df, \n",
    "                     on ='Date', \n",
    "                     how ='left')"
   ]
  },
  {
   "cell_type": "code",
   "execution_count": 14,
   "id": "b9ca39d4",
   "metadata": {},
   "outputs": [
    {
     "data": {
      "text/html": [
       "<div>\n",
       "<style scoped>\n",
       "    .dataframe tbody tr th:only-of-type {\n",
       "        vertical-align: middle;\n",
       "    }\n",
       "\n",
       "    .dataframe tbody tr th {\n",
       "        vertical-align: top;\n",
       "    }\n",
       "\n",
       "    .dataframe thead th {\n",
       "        text-align: right;\n",
       "    }\n",
       "</style>\n",
       "<table border=\"1\" class=\"dataframe\">\n",
       "  <thead>\n",
       "    <tr style=\"text-align: right;\">\n",
       "      <th></th>\n",
       "      <th>Date</th>\n",
       "      <th>Total_x</th>\n",
       "      <th>Total_y</th>\n",
       "    </tr>\n",
       "  </thead>\n",
       "  <tbody>\n",
       "    <tr>\n",
       "      <th>0</th>\n",
       "      <td>2018-01-01</td>\n",
       "      <td>NaN</td>\n",
       "      <td>412580.54</td>\n",
       "    </tr>\n",
       "    <tr>\n",
       "      <th>1</th>\n",
       "      <td>2018-01-02</td>\n",
       "      <td>NaN</td>\n",
       "      <td>509174.25</td>\n",
       "    </tr>\n",
       "    <tr>\n",
       "      <th>2</th>\n",
       "      <td>2018-01-03</td>\n",
       "      <td>NaN</td>\n",
       "      <td>679743.46</td>\n",
       "    </tr>\n",
       "    <tr>\n",
       "      <th>3</th>\n",
       "      <td>2018-01-04</td>\n",
       "      <td>NaN</td>\n",
       "      <td>742640.47</td>\n",
       "    </tr>\n",
       "    <tr>\n",
       "      <th>4</th>\n",
       "      <td>2018-01-05</td>\n",
       "      <td>NaN</td>\n",
       "      <td>572894.82</td>\n",
       "    </tr>\n",
       "    <tr>\n",
       "      <th>...</th>\n",
       "      <td>...</td>\n",
       "      <td>...</td>\n",
       "      <td>...</td>\n",
       "    </tr>\n",
       "    <tr>\n",
       "      <th>725</th>\n",
       "      <td>2019-12-27</td>\n",
       "      <td>NaN</td>\n",
       "      <td>706916.01</td>\n",
       "    </tr>\n",
       "    <tr>\n",
       "      <th>726</th>\n",
       "      <td>2019-12-28</td>\n",
       "      <td>NaN</td>\n",
       "      <td>787527.73</td>\n",
       "    </tr>\n",
       "    <tr>\n",
       "      <th>727</th>\n",
       "      <td>2019-12-29</td>\n",
       "      <td>NaN</td>\n",
       "      <td>428261.99</td>\n",
       "    </tr>\n",
       "    <tr>\n",
       "      <th>728</th>\n",
       "      <td>2019-12-30</td>\n",
       "      <td>NaN</td>\n",
       "      <td>254375.48</td>\n",
       "    </tr>\n",
       "    <tr>\n",
       "      <th>729</th>\n",
       "      <td>2019-12-31</td>\n",
       "      <td>NaN</td>\n",
       "      <td>12612.03</td>\n",
       "    </tr>\n",
       "  </tbody>\n",
       "</table>\n",
       "<p>730 rows × 3 columns</p>\n",
       "</div>"
      ],
      "text/plain": [
       "          Date Total_x    Total_y\n",
       "0   2018-01-01     NaN  412580.54\n",
       "1   2018-01-02     NaN  509174.25\n",
       "2   2018-01-03     NaN  679743.46\n",
       "3   2018-01-04     NaN  742640.47\n",
       "4   2018-01-05     NaN  572894.82\n",
       "..         ...     ...        ...\n",
       "725 2019-12-27     NaN  706916.01\n",
       "726 2019-12-28     NaN  787527.73\n",
       "727 2019-12-29     NaN  428261.99\n",
       "728 2019-12-30     NaN  254375.48\n",
       "729 2019-12-31     NaN   12612.03\n",
       "\n",
       "[730 rows x 3 columns]"
      ]
     },
     "execution_count": 14,
     "metadata": {},
     "output_type": "execute_result"
    }
   ],
   "source": [
    "lj_df"
   ]
  },
  {
   "cell_type": "code",
   "execution_count": 15,
   "id": "b9b35efa",
   "metadata": {},
   "outputs": [],
   "source": [
    "lj_df[\"Total_x\"].fillna(0, inplace = True)\n",
    "lj_df[\"Total_y\"].fillna(0, inplace = True)"
   ]
  },
  {
   "cell_type": "code",
   "execution_count": 16,
   "id": "a303c8ae",
   "metadata": {},
   "outputs": [],
   "source": [
    "lj_df[\"Total\"] = lj_df[\"Total_x\"] + lj_df[\"Total_y\"]"
   ]
  },
  {
   "cell_type": "code",
   "execution_count": 17,
   "id": "b929a9cd",
   "metadata": {},
   "outputs": [
    {
     "data": {
      "text/html": [
       "<div>\n",
       "<style scoped>\n",
       "    .dataframe tbody tr th:only-of-type {\n",
       "        vertical-align: middle;\n",
       "    }\n",
       "\n",
       "    .dataframe tbody tr th {\n",
       "        vertical-align: top;\n",
       "    }\n",
       "\n",
       "    .dataframe thead th {\n",
       "        text-align: right;\n",
       "    }\n",
       "</style>\n",
       "<table border=\"1\" class=\"dataframe\">\n",
       "  <thead>\n",
       "    <tr style=\"text-align: right;\">\n",
       "      <th></th>\n",
       "      <th>Date</th>\n",
       "      <th>Total_x</th>\n",
       "      <th>Total_y</th>\n",
       "      <th>Total</th>\n",
       "    </tr>\n",
       "  </thead>\n",
       "  <tbody>\n",
       "    <tr>\n",
       "      <th>0</th>\n",
       "      <td>2018-01-01</td>\n",
       "      <td>0</td>\n",
       "      <td>412580.54</td>\n",
       "      <td>412580.54</td>\n",
       "    </tr>\n",
       "    <tr>\n",
       "      <th>1</th>\n",
       "      <td>2018-01-02</td>\n",
       "      <td>0</td>\n",
       "      <td>509174.25</td>\n",
       "      <td>509174.25</td>\n",
       "    </tr>\n",
       "    <tr>\n",
       "      <th>2</th>\n",
       "      <td>2018-01-03</td>\n",
       "      <td>0</td>\n",
       "      <td>679743.46</td>\n",
       "      <td>679743.46</td>\n",
       "    </tr>\n",
       "    <tr>\n",
       "      <th>3</th>\n",
       "      <td>2018-01-04</td>\n",
       "      <td>0</td>\n",
       "      <td>742640.47</td>\n",
       "      <td>742640.47</td>\n",
       "    </tr>\n",
       "    <tr>\n",
       "      <th>4</th>\n",
       "      <td>2018-01-05</td>\n",
       "      <td>0</td>\n",
       "      <td>572894.82</td>\n",
       "      <td>572894.82</td>\n",
       "    </tr>\n",
       "    <tr>\n",
       "      <th>...</th>\n",
       "      <td>...</td>\n",
       "      <td>...</td>\n",
       "      <td>...</td>\n",
       "      <td>...</td>\n",
       "    </tr>\n",
       "    <tr>\n",
       "      <th>725</th>\n",
       "      <td>2019-12-27</td>\n",
       "      <td>0</td>\n",
       "      <td>706916.01</td>\n",
       "      <td>706916.01</td>\n",
       "    </tr>\n",
       "    <tr>\n",
       "      <th>726</th>\n",
       "      <td>2019-12-28</td>\n",
       "      <td>0</td>\n",
       "      <td>787527.73</td>\n",
       "      <td>787527.73</td>\n",
       "    </tr>\n",
       "    <tr>\n",
       "      <th>727</th>\n",
       "      <td>2019-12-29</td>\n",
       "      <td>0</td>\n",
       "      <td>428261.99</td>\n",
       "      <td>428261.99</td>\n",
       "    </tr>\n",
       "    <tr>\n",
       "      <th>728</th>\n",
       "      <td>2019-12-30</td>\n",
       "      <td>0</td>\n",
       "      <td>254375.48</td>\n",
       "      <td>254375.48</td>\n",
       "    </tr>\n",
       "    <tr>\n",
       "      <th>729</th>\n",
       "      <td>2019-12-31</td>\n",
       "      <td>0</td>\n",
       "      <td>12612.03</td>\n",
       "      <td>12612.03</td>\n",
       "    </tr>\n",
       "  </tbody>\n",
       "</table>\n",
       "<p>730 rows × 4 columns</p>\n",
       "</div>"
      ],
      "text/plain": [
       "          Date  Total_x    Total_y      Total\n",
       "0   2018-01-01        0  412580.54  412580.54\n",
       "1   2018-01-02        0  509174.25  509174.25\n",
       "2   2018-01-03        0  679743.46  679743.46\n",
       "3   2018-01-04        0  742640.47  742640.47\n",
       "4   2018-01-05        0  572894.82  572894.82\n",
       "..         ...      ...        ...        ...\n",
       "725 2019-12-27        0  706916.01  706916.01\n",
       "726 2019-12-28        0  787527.73  787527.73\n",
       "727 2019-12-29        0  428261.99  428261.99\n",
       "728 2019-12-30        0  254375.48  254375.48\n",
       "729 2019-12-31        0   12612.03   12612.03\n",
       "\n",
       "[730 rows x 4 columns]"
      ]
     },
     "execution_count": 17,
     "metadata": {},
     "output_type": "execute_result"
    }
   ],
   "source": [
    "lj_df"
   ]
  },
  {
   "cell_type": "code",
   "execution_count": 18,
   "id": "c0405cb5",
   "metadata": {},
   "outputs": [
    {
     "data": {
      "text/html": [
       "<div>\n",
       "<style scoped>\n",
       "    .dataframe tbody tr th:only-of-type {\n",
       "        vertical-align: middle;\n",
       "    }\n",
       "\n",
       "    .dataframe tbody tr th {\n",
       "        vertical-align: top;\n",
       "    }\n",
       "\n",
       "    .dataframe thead th {\n",
       "        text-align: right;\n",
       "    }\n",
       "</style>\n",
       "<table border=\"1\" class=\"dataframe\">\n",
       "  <thead>\n",
       "    <tr style=\"text-align: right;\">\n",
       "      <th></th>\n",
       "      <th>Date</th>\n",
       "      <th>Total_x</th>\n",
       "      <th>Total_y</th>\n",
       "      <th>Total</th>\n",
       "    </tr>\n",
       "  </thead>\n",
       "  <tbody>\n",
       "    <tr>\n",
       "      <th>393</th>\n",
       "      <td>2019-01-29</td>\n",
       "      <td>0</td>\n",
       "      <td>2061417.17</td>\n",
       "      <td>2061417.17</td>\n",
       "    </tr>\n",
       "    <tr>\n",
       "      <th>16</th>\n",
       "      <td>2018-01-17</td>\n",
       "      <td>0</td>\n",
       "      <td>1207555.37</td>\n",
       "      <td>1207555.37</td>\n",
       "    </tr>\n",
       "    <tr>\n",
       "      <th>707</th>\n",
       "      <td>2019-12-09</td>\n",
       "      <td>0</td>\n",
       "      <td>1185818.56</td>\n",
       "      <td>1185818.56</td>\n",
       "    </tr>\n",
       "    <tr>\n",
       "      <th>699</th>\n",
       "      <td>2019-12-01</td>\n",
       "      <td>0</td>\n",
       "      <td>1173370.42</td>\n",
       "      <td>1173370.42</td>\n",
       "    </tr>\n",
       "    <tr>\n",
       "      <th>53</th>\n",
       "      <td>2018-02-23</td>\n",
       "      <td>0</td>\n",
       "      <td>1122750.56</td>\n",
       "      <td>1122750.56</td>\n",
       "    </tr>\n",
       "    <tr>\n",
       "      <th>...</th>\n",
       "      <td>...</td>\n",
       "      <td>...</td>\n",
       "      <td>...</td>\n",
       "      <td>...</td>\n",
       "    </tr>\n",
       "    <tr>\n",
       "      <th>644</th>\n",
       "      <td>2019-10-07</td>\n",
       "      <td>0</td>\n",
       "      <td>220501.11</td>\n",
       "      <td>220501.11</td>\n",
       "    </tr>\n",
       "    <tr>\n",
       "      <th>307</th>\n",
       "      <td>2018-11-04</td>\n",
       "      <td>0</td>\n",
       "      <td>180787.17</td>\n",
       "      <td>180787.17</td>\n",
       "    </tr>\n",
       "    <tr>\n",
       "      <th>663</th>\n",
       "      <td>2019-10-26</td>\n",
       "      <td>0</td>\n",
       "      <td>166455.77</td>\n",
       "      <td>166455.77</td>\n",
       "    </tr>\n",
       "    <tr>\n",
       "      <th>309</th>\n",
       "      <td>2018-11-06</td>\n",
       "      <td>0</td>\n",
       "      <td>147413.86</td>\n",
       "      <td>147413.86</td>\n",
       "    </tr>\n",
       "    <tr>\n",
       "      <th>729</th>\n",
       "      <td>2019-12-31</td>\n",
       "      <td>0</td>\n",
       "      <td>12612.03</td>\n",
       "      <td>12612.03</td>\n",
       "    </tr>\n",
       "  </tbody>\n",
       "</table>\n",
       "<p>730 rows × 4 columns</p>\n",
       "</div>"
      ],
      "text/plain": [
       "          Date  Total_x     Total_y       Total\n",
       "393 2019-01-29        0  2061417.17  2061417.17\n",
       "16  2018-01-17        0  1207555.37  1207555.37\n",
       "707 2019-12-09        0  1185818.56  1185818.56\n",
       "699 2019-12-01        0  1173370.42  1173370.42\n",
       "53  2018-02-23        0  1122750.56  1122750.56\n",
       "..         ...      ...         ...         ...\n",
       "644 2019-10-07        0   220501.11   220501.11\n",
       "307 2018-11-04        0   180787.17   180787.17\n",
       "663 2019-10-26        0   166455.77   166455.77\n",
       "309 2018-11-06        0   147413.86   147413.86\n",
       "729 2019-12-31        0    12612.03    12612.03\n",
       "\n",
       "[730 rows x 4 columns]"
      ]
     },
     "execution_count": 18,
     "metadata": {},
     "output_type": "execute_result"
    }
   ],
   "source": [
    "lj_df.sort_values(by = [\"Total\"], ascending=False)"
   ]
  },
  {
   "cell_type": "code",
   "execution_count": 19,
   "id": "7755bce0",
   "metadata": {
    "scrolled": true
   },
   "outputs": [
    {
     "data": {
      "text/html": [
       "<div>\n",
       "<style scoped>\n",
       "    .dataframe tbody tr th:only-of-type {\n",
       "        vertical-align: middle;\n",
       "    }\n",
       "\n",
       "    .dataframe tbody tr th {\n",
       "        vertical-align: top;\n",
       "    }\n",
       "\n",
       "    .dataframe thead th {\n",
       "        text-align: right;\n",
       "    }\n",
       "</style>\n",
       "<table border=\"1\" class=\"dataframe\">\n",
       "  <thead>\n",
       "    <tr style=\"text-align: right;\">\n",
       "      <th></th>\n",
       "      <th>Date</th>\n",
       "      <th>Total_x</th>\n",
       "      <th>Total_y</th>\n",
       "      <th>Total</th>\n",
       "    </tr>\n",
       "  </thead>\n",
       "  <tbody>\n",
       "    <tr>\n",
       "      <th>0</th>\n",
       "      <td>2018-01-01</td>\n",
       "      <td>0</td>\n",
       "      <td>412580.54</td>\n",
       "      <td>412580.54</td>\n",
       "    </tr>\n",
       "    <tr>\n",
       "      <th>1</th>\n",
       "      <td>2018-01-02</td>\n",
       "      <td>0</td>\n",
       "      <td>509174.25</td>\n",
       "      <td>509174.25</td>\n",
       "    </tr>\n",
       "    <tr>\n",
       "      <th>2</th>\n",
       "      <td>2018-01-03</td>\n",
       "      <td>0</td>\n",
       "      <td>679743.46</td>\n",
       "      <td>679743.46</td>\n",
       "    </tr>\n",
       "    <tr>\n",
       "      <th>3</th>\n",
       "      <td>2018-01-04</td>\n",
       "      <td>0</td>\n",
       "      <td>742640.47</td>\n",
       "      <td>742640.47</td>\n",
       "    </tr>\n",
       "    <tr>\n",
       "      <th>4</th>\n",
       "      <td>2018-01-05</td>\n",
       "      <td>0</td>\n",
       "      <td>572894.82</td>\n",
       "      <td>572894.82</td>\n",
       "    </tr>\n",
       "    <tr>\n",
       "      <th>...</th>\n",
       "      <td>...</td>\n",
       "      <td>...</td>\n",
       "      <td>...</td>\n",
       "      <td>...</td>\n",
       "    </tr>\n",
       "    <tr>\n",
       "      <th>725</th>\n",
       "      <td>2019-12-27</td>\n",
       "      <td>0</td>\n",
       "      <td>706916.01</td>\n",
       "      <td>706916.01</td>\n",
       "    </tr>\n",
       "    <tr>\n",
       "      <th>726</th>\n",
       "      <td>2019-12-28</td>\n",
       "      <td>0</td>\n",
       "      <td>787527.73</td>\n",
       "      <td>787527.73</td>\n",
       "    </tr>\n",
       "    <tr>\n",
       "      <th>727</th>\n",
       "      <td>2019-12-29</td>\n",
       "      <td>0</td>\n",
       "      <td>428261.99</td>\n",
       "      <td>428261.99</td>\n",
       "    </tr>\n",
       "    <tr>\n",
       "      <th>728</th>\n",
       "      <td>2019-12-30</td>\n",
       "      <td>0</td>\n",
       "      <td>254375.48</td>\n",
       "      <td>254375.48</td>\n",
       "    </tr>\n",
       "    <tr>\n",
       "      <th>729</th>\n",
       "      <td>2019-12-31</td>\n",
       "      <td>0</td>\n",
       "      <td>12612.03</td>\n",
       "      <td>12612.03</td>\n",
       "    </tr>\n",
       "  </tbody>\n",
       "</table>\n",
       "<p>730 rows × 4 columns</p>\n",
       "</div>"
      ],
      "text/plain": [
       "          Date  Total_x    Total_y      Total\n",
       "0   2018-01-01        0  412580.54  412580.54\n",
       "1   2018-01-02        0  509174.25  509174.25\n",
       "2   2018-01-03        0  679743.46  679743.46\n",
       "3   2018-01-04        0  742640.47  742640.47\n",
       "4   2018-01-05        0  572894.82  572894.82\n",
       "..         ...      ...        ...        ...\n",
       "725 2019-12-27        0  706916.01  706916.01\n",
       "726 2019-12-28        0  787527.73  787527.73\n",
       "727 2019-12-29        0  428261.99  428261.99\n",
       "728 2019-12-30        0  254375.48  254375.48\n",
       "729 2019-12-31        0   12612.03   12612.03\n",
       "\n",
       "[730 rows x 4 columns]"
      ]
     },
     "execution_count": 19,
     "metadata": {},
     "output_type": "execute_result"
    }
   ],
   "source": [
    "lj_df.sort_values(by = [\"Date\"])"
   ]
  },
  {
   "cell_type": "code",
   "execution_count": 20,
   "id": "8892bd21",
   "metadata": {},
   "outputs": [
    {
     "data": {
      "text/html": [
       "<div>\n",
       "<style scoped>\n",
       "    .dataframe tbody tr th:only-of-type {\n",
       "        vertical-align: middle;\n",
       "    }\n",
       "\n",
       "    .dataframe tbody tr th {\n",
       "        vertical-align: top;\n",
       "    }\n",
       "\n",
       "    .dataframe thead th {\n",
       "        text-align: right;\n",
       "    }\n",
       "</style>\n",
       "<table border=\"1\" class=\"dataframe\">\n",
       "  <thead>\n",
       "    <tr style=\"text-align: right;\">\n",
       "      <th></th>\n",
       "      <th>Date</th>\n",
       "      <th>Total</th>\n",
       "    </tr>\n",
       "  </thead>\n",
       "  <tbody>\n",
       "    <tr>\n",
       "      <th>393</th>\n",
       "      <td>2019-01-29</td>\n",
       "      <td>2061417.17</td>\n",
       "    </tr>\n",
       "    <tr>\n",
       "      <th>16</th>\n",
       "      <td>2018-01-17</td>\n",
       "      <td>1207555.37</td>\n",
       "    </tr>\n",
       "    <tr>\n",
       "      <th>707</th>\n",
       "      <td>2019-12-09</td>\n",
       "      <td>1185818.56</td>\n",
       "    </tr>\n",
       "    <tr>\n",
       "      <th>699</th>\n",
       "      <td>2019-12-01</td>\n",
       "      <td>1173370.42</td>\n",
       "    </tr>\n",
       "    <tr>\n",
       "      <th>53</th>\n",
       "      <td>2018-02-23</td>\n",
       "      <td>1122750.56</td>\n",
       "    </tr>\n",
       "    <tr>\n",
       "      <th>...</th>\n",
       "      <td>...</td>\n",
       "      <td>...</td>\n",
       "    </tr>\n",
       "    <tr>\n",
       "      <th>644</th>\n",
       "      <td>2019-10-07</td>\n",
       "      <td>220501.11</td>\n",
       "    </tr>\n",
       "    <tr>\n",
       "      <th>307</th>\n",
       "      <td>2018-11-04</td>\n",
       "      <td>180787.17</td>\n",
       "    </tr>\n",
       "    <tr>\n",
       "      <th>663</th>\n",
       "      <td>2019-10-26</td>\n",
       "      <td>166455.77</td>\n",
       "    </tr>\n",
       "    <tr>\n",
       "      <th>309</th>\n",
       "      <td>2018-11-06</td>\n",
       "      <td>147413.86</td>\n",
       "    </tr>\n",
       "    <tr>\n",
       "      <th>729</th>\n",
       "      <td>2019-12-31</td>\n",
       "      <td>12612.03</td>\n",
       "    </tr>\n",
       "  </tbody>\n",
       "</table>\n",
       "<p>730 rows × 2 columns</p>\n",
       "</div>"
      ],
      "text/plain": [
       "          Date       Total\n",
       "393 2019-01-29  2061417.17\n",
       "16  2018-01-17  1207555.37\n",
       "707 2019-12-09  1185818.56\n",
       "699 2019-12-01  1173370.42\n",
       "53  2018-02-23  1122750.56\n",
       "..         ...         ...\n",
       "644 2019-10-07   220501.11\n",
       "307 2018-11-04   180787.17\n",
       "663 2019-10-26   166455.77\n",
       "309 2018-11-06   147413.86\n",
       "729 2019-12-31    12612.03\n",
       "\n",
       "[730 rows x 2 columns]"
      ]
     },
     "execution_count": 20,
     "metadata": {},
     "output_type": "execute_result"
    }
   ],
   "source": [
    "lj_df.drop(['Total_x', 'Total_y'], axis = 1, inplace = True)\n",
    "\n",
    "lj_df['Total'] = lj_df['Total'].replace(0,np.nan)\n",
    "\n",
    "lj_df.sort_values(by = [\"Total\"], ascending = False)"
   ]
  },
  {
   "cell_type": "code",
   "execution_count": 21,
   "id": "931c64dc",
   "metadata": {},
   "outputs": [
    {
     "data": {
      "text/html": [
       "<div>\n",
       "<style scoped>\n",
       "    .dataframe tbody tr th:only-of-type {\n",
       "        vertical-align: middle;\n",
       "    }\n",
       "\n",
       "    .dataframe tbody tr th {\n",
       "        vertical-align: top;\n",
       "    }\n",
       "\n",
       "    .dataframe thead th {\n",
       "        text-align: right;\n",
       "    }\n",
       "</style>\n",
       "<table border=\"1\" class=\"dataframe\">\n",
       "  <thead>\n",
       "    <tr style=\"text-align: right;\">\n",
       "      <th></th>\n",
       "      <th>Date</th>\n",
       "      <th>Total</th>\n",
       "    </tr>\n",
       "  </thead>\n",
       "  <tbody>\n",
       "    <tr>\n",
       "      <th>0</th>\n",
       "      <td>2018-01-01</td>\n",
       "      <td>412580.54</td>\n",
       "    </tr>\n",
       "    <tr>\n",
       "      <th>1</th>\n",
       "      <td>2018-01-02</td>\n",
       "      <td>509174.25</td>\n",
       "    </tr>\n",
       "    <tr>\n",
       "      <th>2</th>\n",
       "      <td>2018-01-03</td>\n",
       "      <td>679743.46</td>\n",
       "    </tr>\n",
       "    <tr>\n",
       "      <th>3</th>\n",
       "      <td>2018-01-04</td>\n",
       "      <td>742640.47</td>\n",
       "    </tr>\n",
       "    <tr>\n",
       "      <th>4</th>\n",
       "      <td>2018-01-05</td>\n",
       "      <td>572894.82</td>\n",
       "    </tr>\n",
       "    <tr>\n",
       "      <th>...</th>\n",
       "      <td>...</td>\n",
       "      <td>...</td>\n",
       "    </tr>\n",
       "    <tr>\n",
       "      <th>725</th>\n",
       "      <td>2019-12-27</td>\n",
       "      <td>706916.01</td>\n",
       "    </tr>\n",
       "    <tr>\n",
       "      <th>726</th>\n",
       "      <td>2019-12-28</td>\n",
       "      <td>787527.73</td>\n",
       "    </tr>\n",
       "    <tr>\n",
       "      <th>727</th>\n",
       "      <td>2019-12-29</td>\n",
       "      <td>428261.99</td>\n",
       "    </tr>\n",
       "    <tr>\n",
       "      <th>728</th>\n",
       "      <td>2019-12-30</td>\n",
       "      <td>254375.48</td>\n",
       "    </tr>\n",
       "    <tr>\n",
       "      <th>729</th>\n",
       "      <td>2019-12-31</td>\n",
       "      <td>12612.03</td>\n",
       "    </tr>\n",
       "  </tbody>\n",
       "</table>\n",
       "<p>730 rows × 2 columns</p>\n",
       "</div>"
      ],
      "text/plain": [
       "          Date      Total\n",
       "0   2018-01-01  412580.54\n",
       "1   2018-01-02  509174.25\n",
       "2   2018-01-03  679743.46\n",
       "3   2018-01-04  742640.47\n",
       "4   2018-01-05  572894.82\n",
       "..         ...        ...\n",
       "725 2019-12-27  706916.01\n",
       "726 2019-12-28  787527.73\n",
       "727 2019-12-29  428261.99\n",
       "728 2019-12-30  254375.48\n",
       "729 2019-12-31   12612.03\n",
       "\n",
       "[730 rows x 2 columns]"
      ]
     },
     "execution_count": 21,
     "metadata": {},
     "output_type": "execute_result"
    }
   ],
   "source": [
    "lj_df.sort_values(by = [\"Date\"])\n",
    "\n",
    "lj_df[\"Total\"].fillna( method ='bfill', inplace = True)\n",
    "\n",
    "lj_df[\"Total\"].fillna( method ='ffill', inplace = True)\n",
    "\n",
    "lj_df"
   ]
  },
  {
   "cell_type": "code",
   "execution_count": 22,
   "id": "b956dad8",
   "metadata": {},
   "outputs": [],
   "source": [
    "df = lj_df"
   ]
  },
  {
   "cell_type": "code",
   "execution_count": 23,
   "id": "529e0855",
   "metadata": {},
   "outputs": [],
   "source": [
    "df.to_csv(\"time_series.csv\")"
   ]
  },
  {
   "cell_type": "markdown",
   "id": "43a172a3",
   "metadata": {},
   "source": [
    "\n",
    "## Step 2: Visualize the Data"
   ]
  },
  {
   "cell_type": "code",
   "execution_count": 23,
   "id": "1e6bf59c",
   "metadata": {},
   "outputs": [
    {
     "data": {
      "text/plain": [
       "<AxesSubplot:>"
      ]
     },
     "execution_count": 23,
     "metadata": {},
     "output_type": "execute_result"
    },
    {
     "data": {
      "image/png": "[encoded data removed]",
      "text/plain": [
       "<Figure size 432x288 with 1 Axes>"
      ]
     },
     "metadata": {
      "needs_background": "light"
     },
     "output_type": "display_data"
    }
   ],
   "source": [
    "df.plot()"
   ]
  },
  {
   "cell_type": "code",
   "execution_count": 24,
   "id": "48d11b34",
   "metadata": {},
   "outputs": [],
   "source": [
    "\n",
    "\n",
    "### Testing For Stationarity\n",
    "\n",
    "from statsmodels.tsa.stattools import adfuller\n",
    "\n"
   ]
  },
  {
   "cell_type": "code",
   "execution_count": 25,
   "id": "586f37bc",
   "metadata": {},
   "outputs": [],
   "source": [
    "test_result=adfuller(df['Total'])"
   ]
  },
  {
   "cell_type": "code",
   "execution_count": 26,
   "id": "0f005cc2-bd7b-46e6-84d3-beb3358e3981",
   "metadata": {},
   "outputs": [
    {
     "data": {
      "text/plain": [
       "(-3.3617027403242377,\n",
       " 0.012335798673572144,\n",
       " 20,\n",
       " 709,\n",
       " {'1%': -3.439606888036868,\n",
       "  '5%': -2.865625121924057,\n",
       "  '10%': -2.5689454046801052},\n",
       " 19075.01611140476)"
      ]
     },
     "execution_count": 26,
     "metadata": {},
     "output_type": "execute_result"
    }
   ],
   "source": [
    "test_result"
   ]
  },
  {
   "cell_type": "code",
   "execution_count": 27,
   "id": "2c6b3fa9",
   "metadata": {},
   "outputs": [],
   "source": [
    "#Ho: It is non stationary\n",
    "#H1: It is stationary\n",
    "\n",
    "def adfuller_test(total):\n",
    "    result=adfuller(total)\n",
    "    labels = ['ADF Test Statistic','p-value','#Lags Used','Number of Observations Used']\n",
    "    for value,label in zip(result,labels):\n",
    "        print(label+' : '+str(value) )\n",
    "    if result[1] <= 0.05:\n",
    "        print(\"strong evidence against the null hypothesis(Ho), reject the null hypothesis. Data has no unit root and is stationary\")\n",
    "    else:\n",
    "        print(\"weak evidence against null hypothesis, time series has a unit root, indicating it is non-stationary \")"
   ]
  },
  {
   "cell_type": "code",
   "execution_count": 28,
   "id": "df2086c7",
   "metadata": {},
   "outputs": [
    {
     "name": "stdout",
     "output_type": "stream",
     "text": [
      "ADF Test Statistic : -3.3617027403242377\n",
      "p-value : 0.012335798673572144\n",
      "#Lags Used : 20\n",
      "Number of Observations Used : 709\n",
      "strong evidence against the null hypothesis(Ho), reject the null hypothesis. Data has no unit root and is stationary\n"
     ]
    }
   ],
   "source": [
    "adfuller_test(df['Total'])"
   ]
  },
  {
   "attachments": {
    "image.png": {
     "image/png": "[encoded data removed]"
    }
   },
   "cell_type": "markdown",
   "id": "f26966b4",
   "metadata": {},
   "source": [
    "## Auto Regressive Model\n",
    "![image.png](attachment:image.png)"
   ]
  },
  {
   "cell_type": "code",
   "execution_count": 29,
   "id": "3706a519",
   "metadata": {},
   "outputs": [
    {
     "data": {
      "image/png": "[encoded data removed]",
      "text/plain": [
       "<Figure size 432x288 with 1 Axes>"
      ]
     },
     "metadata": {
      "needs_background": "light"
     },
     "output_type": "display_data"
    }
   ],
   "source": [
    "from pandas.plotting import autocorrelation_plot\n",
    "autocorrelation_plot(df['Total'])\n",
    "plt.show()"
   ]
  },
  {
   "cell_type": "markdown",
   "id": "ecf9647e",
   "metadata": {},
   "source": [
    "### Final Thoughts on Autocorrelation and Partial Autocorrelation\n",
    "\n",
    "* Identification of an AR model is often best done with the PACF.\n",
    "    * For an AR model, the theoretical PACF “shuts off” past the order of the model.  The phrase “shuts off” means that in theory the partial autocorrelations are equal to 0 beyond that point.  Put another way, the number of non-zero partial autocorrelations gives the order of the AR model.  By the “order of the model” we mean the most extreme lag of x that is used as a predictor.\n",
    "    \n",
    "    \n",
    "* Identification of an MA model is often best done with the ACF rather than the PACF.\n",
    "    * For an MA model, the theoretical PACF does not shut off, but instead tapers toward 0 in some manner.  A clearer pattern for an MA model is in the ACF.  The ACF will have non-zero autocorrelations only at lags involved in the model.\n",
    "    \n",
    "    p,d,q\n",
    "    p AR model lags\n",
    "    d differencing\n",
    "    q MA lags"
   ]
  },
  {
   "cell_type": "code",
   "execution_count": 30,
   "id": "4bbecf88",
   "metadata": {},
   "outputs": [],
   "source": [
    "from statsmodels.graphics.tsaplots import plot_acf,plot_pacf"
   ]
  },
  {
   "cell_type": "code",
   "execution_count": 31,
   "id": "50d35180-d992-45c5-8629-a7ae0e391efd",
   "metadata": {},
   "outputs": [],
   "source": [
    "import statsmodels.api as sm"
   ]
  },
  {
   "cell_type": "code",
   "execution_count": 32,
   "id": "d25fb6e3",
   "metadata": {},
   "outputs": [
    {
     "data": {
      "image/png": "[encoded data removed]",
      "text/plain": [
       "<Figure size 864x576 with 2 Axes>"
      ]
     },
     "metadata": {
      "needs_background": "light"
     },
     "output_type": "display_data"
    }
   ],
   "source": [
    "fig = plt.figure(figsize=(12,8))\n",
    "ax1 = fig.add_subplot(211)\n",
    "fig = sm.graphics.tsa.plot_acf(df['Total'], lags=40, ax=ax1)\n",
    "ax2 = fig.add_subplot(212)\n",
    "fig = sm.graphics.tsa.plot_pacf(df['Total'], lags=40, ax=ax2)"
   ]
  },
  {
   "cell_type": "code",
   "execution_count": 33,
   "id": "13ff5db5",
   "metadata": {
    "scrolled": true
   },
   "outputs": [
    {
     "name": "stdout",
     "output_type": "stream",
     "text": [
      "Requirement already satisfied: pmdarima in c:\\programdata\\anaconda3\\lib\\site-packages (1.8.3)\n",
      "Requirement already satisfied: scipy>=1.3.2 in c:\\programdata\\anaconda3\\lib\\site-packages (from pmdarima) (1.6.2)\n",
      "Requirement already satisfied: statsmodels!=0.12.0,>=0.11 in c:\\programdata\\anaconda3\\lib\\site-packages (from pmdarima) (0.12.2)\n",
      "Requirement already satisfied: setuptools!=50.0.0,>=38.6.0 in c:\\programdata\\anaconda3\\lib\\site-packages (from pmdarima) (52.0.0.post20210125)\n",
      "Requirement already satisfied: Cython!=0.29.18,>=0.29 in c:\\programdata\\anaconda3\\lib\\site-packages (from pmdarima) (0.29.23)\n",
      "Requirement already satisfied: numpy>=1.19.3 in c:\\programdata\\anaconda3\\lib\\site-packages (from pmdarima) (1.20.1)\n",
      "Requirement already satisfied: scikit-learn>=0.22 in c:\\programdata\\anaconda3\\lib\\site-packages (from pmdarima) (0.24.1)\n",
      "Requirement already satisfied: pandas>=0.19 in c:\\programdata\\anaconda3\\lib\\site-packages (from pmdarima) (1.2.4)\n",
      "Requirement already satisfied: urllib3 in c:\\programdata\\anaconda3\\lib\\site-packages (from pmdarima) (1.26.4)\n",
      "Requirement already satisfied: joblib>=0.11 in c:\\programdata\\anaconda3\\lib\\site-packages (from pmdarima) (1.0.1)\n",
      "Requirement already satisfied: pytz>=2017.3 in c:\\programdata\\anaconda3\\lib\\site-packages (from pandas>=0.19->pmdarima) (2021.1)\n",
      "Requirement already satisfied: python-dateutil>=2.7.3 in c:\\programdata\\anaconda3\\lib\\site-packages (from pandas>=0.19->pmdarima) (2.8.1)\n",
      "Requirement already satisfied: six>=1.5 in c:\\programdata\\anaconda3\\lib\\site-packages (from python-dateutil>=2.7.3->pandas>=0.19->pmdarima) (1.15.0)\n",
      "Requirement already satisfied: threadpoolctl>=2.0.0 in c:\\programdata\\anaconda3\\lib\\site-packages (from scikit-learn>=0.22->pmdarima) (2.1.0)\n",
      "Requirement already satisfied: patsy>=0.5 in c:\\programdata\\anaconda3\\lib\\site-packages (from statsmodels!=0.12.0,>=0.11->pmdarima) (0.5.1)\n"
     ]
    }
   ],
   "source": [
    "# To install the library\n",
    "!pip install pmdarima\n",
    "  \n",
    "# Import the library\n",
    "from pmdarima import auto_arima\n",
    "  \n",
    "# Ignore harmless warnings\n",
    "import warnings\n",
    "warnings.filterwarnings(\"ignore\")"
   ]
  },
  {
   "cell_type": "code",
   "execution_count": 34,
   "id": "12db9245",
   "metadata": {
    "scrolled": false
   },
   "outputs": [
    {
     "name": "stdout",
     "output_type": "stream",
     "text": [
      "Performing stepwise search to minimize aic\n",
      " ARIMA(1,0,1)(0,1,1)[12] intercept   : AIC=inf, Time=1.17 sec\n",
      " ARIMA(0,0,0)(0,1,0)[12] intercept   : AIC=20087.818, Time=0.07 sec\n",
      " ARIMA(1,0,0)(1,1,0)[12] intercept   : AIC=19825.578, Time=0.54 sec\n",
      " ARIMA(0,0,1)(0,1,1)[12] intercept   : AIC=inf, Time=0.62 sec\n",
      " ARIMA(0,0,0)(0,1,0)[12]             : AIC=20085.946, Time=0.05 sec\n",
      " ARIMA(1,0,0)(0,1,0)[12] intercept   : AIC=19964.907, Time=0.18 sec\n",
      " ARIMA(1,0,0)(2,1,0)[12] intercept   : AIC=19697.439, Time=1.33 sec\n",
      " ARIMA(1,0,0)(2,1,1)[12] intercept   : AIC=19631.402, Time=2.32 sec\n",
      " ARIMA(1,0,0)(1,1,1)[12] intercept   : AIC=inf, Time=0.71 sec\n",
      " ARIMA(1,0,0)(2,1,2)[12] intercept   : AIC=inf, Time=3.24 sec\n",
      " ARIMA(1,0,0)(1,1,2)[12] intercept   : AIC=inf, Time=3.17 sec\n",
      " ARIMA(0,0,0)(2,1,1)[12] intercept   : AIC=19802.397, Time=1.53 sec\n",
      " ARIMA(2,0,0)(2,1,1)[12] intercept   : AIC=19627.808, Time=2.36 sec\n",
      " ARIMA(2,0,0)(1,1,1)[12] intercept   : AIC=inf, Time=1.06 sec\n",
      " ARIMA(2,0,0)(2,1,0)[12] intercept   : AIC=19696.539, Time=1.46 sec\n",
      " ARIMA(2,0,0)(2,1,2)[12] intercept   : AIC=inf, Time=4.02 sec\n",
      " ARIMA(2,0,0)(1,1,0)[12] intercept   : AIC=19815.728, Time=0.52 sec\n",
      " ARIMA(2,0,0)(1,1,2)[12] intercept   : AIC=inf, Time=3.79 sec\n",
      " ARIMA(3,0,0)(2,1,1)[12] intercept   : AIC=19620.946, Time=3.00 sec\n",
      " ARIMA(3,0,0)(1,1,1)[12] intercept   : AIC=inf, Time=1.11 sec\n",
      " ARIMA(3,0,0)(2,1,0)[12] intercept   : AIC=19692.651, Time=1.75 sec\n",
      " ARIMA(3,0,0)(2,1,2)[12] intercept   : AIC=inf, Time=4.28 sec\n",
      " ARIMA(3,0,0)(1,1,0)[12] intercept   : AIC=19794.774, Time=0.67 sec\n",
      " ARIMA(3,0,0)(1,1,2)[12] intercept   : AIC=inf, Time=5.40 sec\n",
      " ARIMA(3,0,1)(2,1,1)[12] intercept   : AIC=inf, Time=11.64 sec\n",
      " ARIMA(2,0,1)(2,1,1)[12] intercept   : AIC=inf, Time=6.23 sec\n",
      " ARIMA(3,0,0)(2,1,1)[12]             : AIC=inf, Time=2.73 sec\n",
      "\n",
      "Best model:  ARIMA(3,0,0)(2,1,1)[12] intercept\n",
      "Total fit time: 64.987 seconds\n"
     ]
    }
   ],
   "source": [
    "stepwise_fit = auto_arima(df['Total'], start_p = 1, start_q = 1,\n",
    "                          max_p = 3, max_q = 3, m = 12,\n",
    "                          start_P = 0, seasonal = True,\n",
    "                          d = None, D = 1, trace = True,\n",
    "                          error_action ='ignore',   # we don't want to know if an order does not work\n",
    "                          suppress_warnings = True,  # we don't want convergence warnings\n",
    "                          stepwise = True)  "
   ]
  },
  {
   "cell_type": "code",
   "execution_count": 35,
   "id": "bf4ea93a",
   "metadata": {
    "scrolled": true
   },
   "outputs": [
    {
     "data": {
      "text/html": [
       "<table class=\"simpletable\">\n",
       "<caption>SARIMAX Results</caption>\n",
       "<tr>\n",
       "  <th>Dep. Variable:</th>                   <td>y</td>                <th>  No. Observations:  </th>    <td>730</td>   \n",
       "</tr>\n",
       "<tr>\n",
       "  <th>Model:</th>           <td>SARIMAX(3, 0, 0)x(2, 1, [1], 12)</td> <th>  Log Likelihood     </th> <td>-9802.473</td>\n",
       "</tr>\n",
       "<tr>\n",
       "  <th>Date:</th>                    <td>Sun, 24 Oct 2021</td>         <th>  AIC                </th> <td>19620.946</td>\n",
       "</tr>\n",
       "<tr>\n",
       "  <th>Time:</th>                        <td>17:13:30</td>             <th>  BIC                </th> <td>19657.557</td>\n",
       "</tr>\n",
       "<tr>\n",
       "  <th>Sample:</th>                          <td>0</td>                <th>  HQIC               </th> <td>19635.082</td>\n",
       "</tr>\n",
       "<tr>\n",
       "  <th></th>                              <td> - 730</td>              <th>                     </th>     <td> </td>    \n",
       "</tr>\n",
       "<tr>\n",
       "  <th>Covariance Type:</th>                <td>opg</td>               <th>                     </th>     <td> </td>    \n",
       "</tr>\n",
       "</table>\n",
       "<table class=\"simpletable\">\n",
       "<tr>\n",
       "      <td></td>         <th>coef</th>     <th>std err</th>      <th>z</th>      <th>P>|z|</th>  <th>[0.025</th>    <th>0.975]</th>  \n",
       "</tr>\n",
       "<tr>\n",
       "  <th>intercept</th> <td> -969.8621</td> <td> 1902.494</td> <td>   -0.510</td> <td> 0.610</td> <td>-4698.682</td> <td> 2758.958</td>\n",
       "</tr>\n",
       "<tr>\n",
       "  <th>ar.L1</th>     <td>    0.4857</td> <td>    0.078</td> <td>    6.262</td> <td> 0.000</td> <td>    0.334</td> <td>    0.638</td>\n",
       "</tr>\n",
       "<tr>\n",
       "  <th>ar.L2</th>     <td>    0.0678</td> <td>    0.086</td> <td>    0.788</td> <td> 0.431</td> <td>   -0.101</td> <td>    0.236</td>\n",
       "</tr>\n",
       "<tr>\n",
       "  <th>ar.L3</th>     <td>    0.0283</td> <td>    0.081</td> <td>    0.347</td> <td> 0.728</td> <td>   -0.131</td> <td>    0.188</td>\n",
       "</tr>\n",
       "<tr>\n",
       "  <th>ar.S.L12</th>  <td>   -0.1283</td> <td>    0.091</td> <td>   -1.412</td> <td> 0.158</td> <td>   -0.306</td> <td>    0.050</td>\n",
       "</tr>\n",
       "<tr>\n",
       "  <th>ar.S.L24</th>  <td>   -0.2263</td> <td>    0.089</td> <td>   -2.530</td> <td> 0.011</td> <td>   -0.402</td> <td>   -0.051</td>\n",
       "</tr>\n",
       "<tr>\n",
       "  <th>ma.S.L12</th>  <td>   -0.8853</td> <td>    0.055</td> <td>  -16.150</td> <td> 0.000</td> <td>   -0.993</td> <td>   -0.778</td>\n",
       "</tr>\n",
       "<tr>\n",
       "  <th>sigma2</th>    <td> 6.708e+10</td> <td>    0.000</td> <td> 2.34e+14</td> <td> 0.000</td> <td> 6.71e+10</td> <td> 6.71e+10</td>\n",
       "</tr>\n",
       "</table>\n",
       "<table class=\"simpletable\">\n",
       "<tr>\n",
       "  <th>Ljung-Box (L1) (Q):</th>     <td>0.03</td> <th>  Jarque-Bera (JB):  </th> <td>562.01</td>\n",
       "</tr>\n",
       "<tr>\n",
       "  <th>Prob(Q):</th>                <td>0.87</td> <th>  Prob(JB):          </th>  <td>0.00</td> \n",
       "</tr>\n",
       "<tr>\n",
       "  <th>Heteroskedasticity (H):</th> <td>0.95</td> <th>  Skew:              </th>  <td>0.81</td> \n",
       "</tr>\n",
       "<tr>\n",
       "  <th>Prob(H) (two-sided):</th>    <td>0.68</td> <th>  Kurtosis:          </th>  <td>7.02</td> \n",
       "</tr>\n",
       "</table><br/><br/>Warnings:<br/>[1] Covariance matrix calculated using the outer product of gradients (complex-step).<br/>[2] Covariance matrix is singular or near-singular, with condition number 5.36e+29. Standard errors may be unstable."
      ],
      "text/plain": [
       "<class 'statsmodels.iolib.summary.Summary'>\n",
       "\"\"\"\n",
       "                                      SARIMAX Results                                       \n",
       "============================================================================================\n",
       "Dep. Variable:                                    y   No. Observations:                  730\n",
       "Model:             SARIMAX(3, 0, 0)x(2, 1, [1], 12)   Log Likelihood               -9802.473\n",
       "Date:                              Sun, 24 Oct 2021   AIC                          19620.946\n",
       "Time:                                      17:13:30   BIC                          19657.557\n",
       "Sample:                                           0   HQIC                         19635.082\n",
       "                                              - 730                                         \n",
       "Covariance Type:                                opg                                         \n",
       "==============================================================================\n",
       "                 coef    std err          z      P>|z|      [0.025      0.975]\n",
       "------------------------------------------------------------------------------\n",
       "intercept   -969.8621   1902.494     -0.510      0.610   -4698.682    2758.958\n",
       "ar.L1          0.4857      0.078      6.262      0.000       0.334       0.638\n",
       "ar.L2          0.0678      0.086      0.788      0.431      -0.101       0.236\n",
       "ar.L3          0.0283      0.081      0.347      0.728      -0.131       0.188\n",
       "ar.S.L12      -0.1283      0.091     -1.412      0.158      -0.306       0.050\n",
       "ar.S.L24      -0.2263      0.089     -2.530      0.011      -0.402      -0.051\n",
       "ma.S.L12      -0.8853      0.055    -16.150      0.000      -0.993      -0.778\n",
       "sigma2      6.708e+10      0.000   2.34e+14      0.000    6.71e+10    6.71e+10\n",
       "===================================================================================\n",
       "Ljung-Box (L1) (Q):                   0.03   Jarque-Bera (JB):               562.01\n",
       "Prob(Q):                              0.87   Prob(JB):                         0.00\n",
       "Heteroskedasticity (H):               0.95   Skew:                             0.81\n",
       "Prob(H) (two-sided):                  0.68   Kurtosis:                         7.02\n",
       "===================================================================================\n",
       "\n",
       "Warnings:\n",
       "[1] Covariance matrix calculated using the outer product of gradients (complex-step).\n",
       "[2] Covariance matrix is singular or near-singular, with condition number 5.36e+29. Standard errors may be unstable.\n",
       "\"\"\""
      ]
     },
     "execution_count": 35,
     "metadata": {},
     "output_type": "execute_result"
    }
   ],
   "source": [
    "# To print the summary\n",
    "stepwise_fit.summary()"
   ]
  },
  {
   "cell_type": "code",
   "execution_count": 36,
   "id": "d56d5e2b",
   "metadata": {
    "scrolled": false
   },
   "outputs": [
    {
     "data": {
      "text/html": [
       "<table class=\"simpletable\">\n",
       "<caption>SARIMAX Results</caption>\n",
       "<tr>\n",
       "  <th>Dep. Variable:</th>                <td>Total</td>             <th>  No. Observations:  </th>    <td>718</td>   \n",
       "</tr>\n",
       "<tr>\n",
       "  <th>Model:</th>           <td>SARIMAX(0, 1, 1)x(2, 1, 1, 12)</td> <th>  Log Likelihood     </th> <td>-9686.776</td>\n",
       "</tr>\n",
       "<tr>\n",
       "  <th>Date:</th>                   <td>Sun, 24 Oct 2021</td>        <th>  AIC                </th> <td>19383.552</td>\n",
       "</tr>\n",
       "<tr>\n",
       "  <th>Time:</th>                       <td>17:13:32</td>            <th>  BIC                </th> <td>19406.343</td>\n",
       "</tr>\n",
       "<tr>\n",
       "  <th>Sample:</th>                         <td>0</td>               <th>  HQIC               </th> <td>19392.359</td>\n",
       "</tr>\n",
       "<tr>\n",
       "  <th></th>                             <td> - 718</td>             <th>                     </th>     <td> </td>    \n",
       "</tr>\n",
       "<tr>\n",
       "  <th>Covariance Type:</th>               <td>opg</td>              <th>                     </th>     <td> </td>    \n",
       "</tr>\n",
       "</table>\n",
       "<table class=\"simpletable\">\n",
       "<tr>\n",
       "      <td></td>        <th>coef</th>     <th>std err</th>      <th>z</th>      <th>P>|z|</th>  <th>[0.025</th>    <th>0.975]</th>  \n",
       "</tr>\n",
       "<tr>\n",
       "  <th>ma.L1</th>    <td>   -0.7326</td> <td>    0.066</td> <td>  -11.070</td> <td> 0.000</td> <td>   -0.862</td> <td>   -0.603</td>\n",
       "</tr>\n",
       "<tr>\n",
       "  <th>ar.S.L12</th> <td>   -0.2075</td> <td>    0.099</td> <td>   -2.086</td> <td> 0.037</td> <td>   -0.402</td> <td>   -0.013</td>\n",
       "</tr>\n",
       "<tr>\n",
       "  <th>ar.S.L24</th> <td>   -0.3522</td> <td>    0.105</td> <td>   -3.340</td> <td> 0.001</td> <td>   -0.559</td> <td>   -0.146</td>\n",
       "</tr>\n",
       "<tr>\n",
       "  <th>ma.S.L12</th> <td>   -0.8520</td> <td>    0.073</td> <td>  -11.687</td> <td> 0.000</td> <td>   -0.995</td> <td>   -0.709</td>\n",
       "</tr>\n",
       "<tr>\n",
       "  <th>sigma2</th>   <td> 8.954e+10</td> <td> 4.33e-13</td> <td> 2.07e+23</td> <td> 0.000</td> <td> 8.95e+10</td> <td> 8.95e+10</td>\n",
       "</tr>\n",
       "</table>\n",
       "<table class=\"simpletable\">\n",
       "<tr>\n",
       "  <th>Ljung-Box (L1) (Q):</th>     <td>21.75</td> <th>  Jarque-Bera (JB):  </th> <td>327.78</td>\n",
       "</tr>\n",
       "<tr>\n",
       "  <th>Prob(Q):</th>                <td>0.00</td>  <th>  Prob(JB):          </th>  <td>0.00</td> \n",
       "</tr>\n",
       "<tr>\n",
       "  <th>Heteroskedasticity (H):</th> <td>0.97</td>  <th>  Skew:              </th>  <td>0.64</td> \n",
       "</tr>\n",
       "<tr>\n",
       "  <th>Prob(H) (two-sided):</th>    <td>0.79</td>  <th>  Kurtosis:          </th>  <td>6.09</td> \n",
       "</tr>\n",
       "</table><br/><br/>Warnings:<br/>[1] Covariance matrix calculated using the outer product of gradients (complex-step).<br/>[2] Covariance matrix is singular or near-singular, with condition number 2.27e+39. Standard errors may be unstable."
      ],
      "text/plain": [
       "<class 'statsmodels.iolib.summary.Summary'>\n",
       "\"\"\"\n",
       "                                     SARIMAX Results                                      \n",
       "==========================================================================================\n",
       "Dep. Variable:                              Total   No. Observations:                  718\n",
       "Model:             SARIMAX(0, 1, 1)x(2, 1, 1, 12)   Log Likelihood               -9686.776\n",
       "Date:                            Sun, 24 Oct 2021   AIC                          19383.552\n",
       "Time:                                    17:13:32   BIC                          19406.343\n",
       "Sample:                                         0   HQIC                         19392.359\n",
       "                                            - 718                                         \n",
       "Covariance Type:                              opg                                         \n",
       "==============================================================================\n",
       "                 coef    std err          z      P>|z|      [0.025      0.975]\n",
       "------------------------------------------------------------------------------\n",
       "ma.L1         -0.7326      0.066    -11.070      0.000      -0.862      -0.603\n",
       "ar.S.L12      -0.2075      0.099     -2.086      0.037      -0.402      -0.013\n",
       "ar.S.L24      -0.3522      0.105     -3.340      0.001      -0.559      -0.146\n",
       "ma.S.L12      -0.8520      0.073    -11.687      0.000      -0.995      -0.709\n",
       "sigma2      8.954e+10   4.33e-13   2.07e+23      0.000    8.95e+10    8.95e+10\n",
       "===================================================================================\n",
       "Ljung-Box (L1) (Q):                  21.75   Jarque-Bera (JB):               327.78\n",
       "Prob(Q):                              0.00   Prob(JB):                         0.00\n",
       "Heteroskedasticity (H):               0.97   Skew:                             0.64\n",
       "Prob(H) (two-sided):                  0.79   Kurtosis:                         6.09\n",
       "===================================================================================\n",
       "\n",
       "Warnings:\n",
       "[1] Covariance matrix calculated using the outer product of gradients (complex-step).\n",
       "[2] Covariance matrix is singular or near-singular, with condition number 2.27e+39. Standard errors may be unstable.\n",
       "\"\"\""
      ]
     },
     "execution_count": 36,
     "metadata": {},
     "output_type": "execute_result"
    }
   ],
   "source": [
    "# Split data into train / test sets\n",
    "train = df.iloc[:len(df)-12]\n",
    "test = df.iloc[len(df)-12:] # set one year(12 months) for testing\n",
    "  \n",
    "# Fit a SARIMAX(0, 1, 1)x(2, 1, 1, 12) on the training set\n",
    "from statsmodels.tsa.statespace.sarimax import SARIMAX\n",
    "  \n",
    "model = SARIMAX(train['Total'], \n",
    "                order = (0, 1, 1), \n",
    "                seasonal_order =(2, 1, 1, 12))\n",
    "  \n",
    "result = model.fit()\n",
    "result.summary()"
   ]
  },
  {
   "cell_type": "code",
   "execution_count": 37,
   "id": "8a841442",
   "metadata": {},
   "outputs": [
    {
     "data": {
      "text/plain": [
       "<AxesSubplot:>"
      ]
     },
     "execution_count": 37,
     "metadata": {},
     "output_type": "execute_result"
    },
    {
     "data": {
      "image/png": "[encoded data removed]",
      "text/plain": [
       "<Figure size 432x288 with 1 Axes>"
      ]
     },
     "metadata": {
      "needs_background": "light"
     },
     "output_type": "display_data"
    }
   ],
   "source": [
    "start = len(train)\n",
    "end = len(train) + len(test) - 1\n",
    "  \n",
    "# Predictions for one-year against the test set\n",
    "predictions = result.predict(start, end,\n",
    "                             typ = 'levels').rename(\"Predictions\")\n",
    "  \n",
    "# plot predictions and actual values\n",
    "predictions.plot(legend = True)\n",
    "test['Total'].plot(legend = True)"
   ]
  },
  {
   "cell_type": "code",
   "execution_count": 80,
   "id": "9a07d6c3",
   "metadata": {},
   "outputs": [
    {
     "name": "stdout",
     "output_type": "stream",
     "text": [
      "430729.9280706032\n",
      "185528270935.707\n"
     ]
    }
   ],
   "source": [
    "# Load specific evaluation tools\n",
    "from sklearn.metrics import mean_squared_error\n",
    "from statsmodels.tools.eval_measures import rmse\n",
    "  \n",
    "# Calculate root mean squared error\n",
    "print(rmse(test[\"Total\"], predictions))\n",
    "  \n",
    "# Calculate mean squared error\n",
    "print(mean_squared_error(test[\"Total\"], predictions))"
   ]
  },
  {
   "cell_type": "code",
   "execution_count": 82,
   "id": "39b83e83",
   "metadata": {},
   "outputs": [
    {
     "data": {
      "text/plain": [
       "<AxesSubplot:>"
      ]
     },
     "execution_count": 82,
     "metadata": {},
     "output_type": "execute_result"
    },
    {
     "data": {
      "image/png": "[encoded data removed]",
      "text/plain": [
       "<Figure size 864x360 with 1 Axes>"
      ]
     },
     "metadata": {
      "needs_background": "light"
     },
     "output_type": "display_data"
    }
   ],
   "source": [
    "# Train the model on the full dataset\n",
    "model = model = SARIMAX(df[\"Total\"], \n",
    "                        order = (0, 1, 1), \n",
    "                        seasonal_order =(2, 1, 1, 12))\n",
    "result = model.fit()\n",
    "  \n",
    "# Forecast for the next 3 years\n",
    "forecast = result.predict(start = len(df), \n",
    "                          end = (len(df)-1) + 3 * 12, \n",
    "                          typ = 'levels').rename('Forecast')\n",
    "  \n",
    "# Plot the forecast values\n",
    "df[\"Total\"].plot(figsize = (12, 5), legend = True)\n",
    "forecast.plot(legend = True)"
   ]
  },
  {
   "cell_type": "code",
   "execution_count": null,
   "id": "440b911c",
   "metadata": {},
   "outputs": [],
   "source": []
  }
 ],
 "metadata": {
  "kernelspec": {
   "display_name": "Python 3",
   "language": "python",
   "name": "python3"
  },
  "language_info": {
   "codemirror_mode": {
    "name": "ipython",
    "version": 3
   },
   "file_extension": ".py",
   "mimetype": "text/x-python",
   "name": "python",
   "nbconvert_exporter": "python",
   "pygments_lexer": "ipython3",
   "version": "3.8.8"
  }
 },
 "nbformat": 4,
 "nbformat_minor": 5
}
