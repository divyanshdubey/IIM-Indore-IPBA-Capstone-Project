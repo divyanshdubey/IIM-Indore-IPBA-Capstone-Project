{
 "cells": [
  {
   "cell_type": "code",
   "execution_count": 1,
   "metadata": {},
   "outputs": [],
   "source": [
    "import pandas as pd\n",
    "import numpy as np\n",
    "from sklearn import metrics\n",
    "from sklearn.linear_model import LinearRegression\n",
    "from sklearn.metrics import r2_score\n",
    "from numpy import asarray\n",
    "import matplotlib.pyplot as plt \n",
    "from sklearn.preprocessing import OrdinalEncoder\n",
    "from sklearn import preprocessing\n",
    "le = preprocessing.LabelEncoder()\n",
    "import seaborn as sns\n",
    "import warnings \n",
    "warnings.filterwarnings(\"ignore\")"
   ]
  },
  {
   "cell_type": "code",
   "execution_count": 2,
   "metadata": {},
   "outputs": [],
   "source": [
    "departure= pd.read_excel(\"New Departure file v2.xlsx\")"
   ]
  },
  {
   "cell_type": "code",
   "execution_count": 3,
   "metadata": {},
   "outputs": [
    {
     "name": "stdout",
     "output_type": "stream",
     "text": [
      "(91251, 13)\n"
     ]
    }
   ],
   "source": [
    "print(departure.shape)"
   ]
  },
  {
   "cell_type": "code",
   "execution_count": 4,
   "metadata": {},
   "outputs": [
    {
     "data": {
      "text/html": [
       "<div>\n",
       "<style scoped>\n",
       "    .dataframe tbody tr th:only-of-type {\n",
       "        vertical-align: middle;\n",
       "    }\n",
       "\n",
       "    .dataframe tbody tr th {\n",
       "        vertical-align: top;\n",
       "    }\n",
       "\n",
       "    .dataframe thead th {\n",
       "        text-align: right;\n",
       "    }\n",
       "</style>\n",
       "<table border=\"1\" class=\"dataframe\">\n",
       "  <thead>\n",
       "    <tr style=\"text-align: right;\">\n",
       "      <th></th>\n",
       "      <th>Name</th>\n",
       "      <th>Res_No</th>\n",
       "      <th>Sub_cat</th>\n",
       "      <th>Macro_RT</th>\n",
       "      <th>Arrival</th>\n",
       "      <th>Departure</th>\n",
       "      <th>Adults_Ch</th>\n",
       "      <th>Nation</th>\n",
       "      <th>Continet</th>\n",
       "      <th>Source</th>\n",
       "      <th>Source_Group</th>\n",
       "      <th>Room_Rate</th>\n",
       "      <th>Res_Date</th>\n",
       "    </tr>\n",
       "  </thead>\n",
       "  <tbody>\n",
       "    <tr>\n",
       "      <th>0</th>\n",
       "      <td>1Puranik, Panduranga</td>\n",
       "      <td>702217</td>\n",
       "      <td>DQB</td>\n",
       "      <td>Deluxe</td>\n",
       "      <td>2018-08-23</td>\n",
       "      <td>2018-08-24</td>\n",
       "      <td>1 / 0</td>\n",
       "      <td>India</td>\n",
       "      <td>India</td>\n",
       "      <td>RSOB</td>\n",
       "      <td>Others</td>\n",
       "      <td>5000.00</td>\n",
       "      <td>2018-08-14</td>\n",
       "    </tr>\n",
       "    <tr>\n",
       "      <th>1</th>\n",
       "      <td>Aljaadi, Gamila</td>\n",
       "      <td>719917</td>\n",
       "      <td>DQB</td>\n",
       "      <td>Deluxe</td>\n",
       "      <td>2018-10-30</td>\n",
       "      <td>2018-11-01</td>\n",
       "      <td>1 / 0</td>\n",
       "      <td>Oman</td>\n",
       "      <td>Asia</td>\n",
       "      <td>BOOKINGS.COM</td>\n",
       "      <td>Online Aggregators</td>\n",
       "      <td>4479.20</td>\n",
       "      <td>2018-10-29</td>\n",
       "    </tr>\n",
       "    <tr>\n",
       "      <th>2</th>\n",
       "      <td>Carpaij, Sander Wouter Maarten</td>\n",
       "      <td>706281</td>\n",
       "      <td>DQB</td>\n",
       "      <td>Deluxe</td>\n",
       "      <td>2018-09-05</td>\n",
       "      <td>2018-09-09</td>\n",
       "      <td>1 / 0</td>\n",
       "      <td>NaN</td>\n",
       "      <td>NaN</td>\n",
       "      <td>CSO</td>\n",
       "      <td>Sales Team</td>\n",
       "      <td>5000.00</td>\n",
       "      <td>2018-08-31</td>\n",
       "    </tr>\n",
       "    <tr>\n",
       "      <th>3</th>\n",
       "      <td>Chachad, Asmit</td>\n",
       "      <td>673325</td>\n",
       "      <td>DQB</td>\n",
       "      <td>Deluxe</td>\n",
       "      <td>2018-04-15</td>\n",
       "      <td>2018-04-16</td>\n",
       "      <td>1 / 0</td>\n",
       "      <td>India</td>\n",
       "      <td>India</td>\n",
       "      <td>RSOM</td>\n",
       "      <td>Others</td>\n",
       "      <td>4630.01</td>\n",
       "      <td>2018-04-13</td>\n",
       "    </tr>\n",
       "    <tr>\n",
       "      <th>4</th>\n",
       "      <td>Gandhi, Raj</td>\n",
       "      <td>723991</td>\n",
       "      <td>DQB</td>\n",
       "      <td>Deluxe</td>\n",
       "      <td>2018-12-09</td>\n",
       "      <td>2018-12-13</td>\n",
       "      <td>1 / 0</td>\n",
       "      <td>India</td>\n",
       "      <td>India</td>\n",
       "      <td>CSO</td>\n",
       "      <td>Sales Team</td>\n",
       "      <td>5000.00</td>\n",
       "      <td>2018-11-16</td>\n",
       "    </tr>\n",
       "  </tbody>\n",
       "</table>\n",
       "</div>"
      ],
      "text/plain": [
       "                              Name  Res_No Sub_cat Macro_RT    Arrival  \\\n",
       "0             1Puranik, Panduranga  702217     DQB   Deluxe 2018-08-23   \n",
       "1                  Aljaadi, Gamila  719917     DQB   Deluxe 2018-10-30   \n",
       "2   Carpaij, Sander Wouter Maarten  706281     DQB   Deluxe 2018-09-05   \n",
       "3                   Chachad, Asmit  673325     DQB   Deluxe 2018-04-15   \n",
       "4                      Gandhi, Raj  723991     DQB   Deluxe 2018-12-09   \n",
       "\n",
       "   Departure Adults_Ch Nation Continet        Source        Source_Group  \\\n",
       "0 2018-08-24     1 / 0  India    India          RSOB              Others   \n",
       "1 2018-11-01     1 / 0   Oman     Asia  BOOKINGS.COM  Online Aggregators   \n",
       "2 2018-09-09     1 / 0    NaN      NaN           CSO          Sales Team   \n",
       "3 2018-04-16     1 / 0  India    India          RSOM              Others   \n",
       "4 2018-12-13     1 / 0  India    India           CSO          Sales Team   \n",
       "\n",
       "   Room_Rate   Res_Date  \n",
       "0    5000.00 2018-08-14  \n",
       "1    4479.20 2018-10-29  \n",
       "2    5000.00 2018-08-31  \n",
       "3    4630.01 2018-04-13  \n",
       "4    5000.00 2018-11-16  "
      ]
     },
     "execution_count": 4,
     "metadata": {},
     "output_type": "execute_result"
    }
   ],
   "source": [
    "departure.head()"
   ]
  },
  {
   "cell_type": "code",
   "execution_count": 5,
   "metadata": {},
   "outputs": [
    {
     "name": "stdout",
     "output_type": "stream",
     "text": [
      "<class 'pandas.core.frame.DataFrame'>\n",
      "RangeIndex: 91251 entries, 0 to 91250\n",
      "Data columns (total 13 columns):\n",
      " #   Column        Non-Null Count  Dtype         \n",
      "---  ------        --------------  -----         \n",
      " 0   Name          91251 non-null  object        \n",
      " 1   Res_No        91251 non-null  int64         \n",
      " 2   Sub_cat       91251 non-null  object        \n",
      " 3   Macro_RT      91251 non-null  object        \n",
      " 4   Arrival       91251 non-null  datetime64[ns]\n",
      " 5   Departure     91251 non-null  datetime64[ns]\n",
      " 6   Adults_Ch     91251 non-null  object        \n",
      " 7   Nation        89337 non-null  object        \n",
      " 8   Continet      89337 non-null  object        \n",
      " 9   Source        91066 non-null  object        \n",
      " 10  Source_Group  91251 non-null  object        \n",
      " 11  Room_Rate     91251 non-null  float64       \n",
      " 12  Res_Date      91251 non-null  datetime64[ns]\n",
      "dtypes: datetime64[ns](3), float64(1), int64(1), object(8)\n",
      "memory usage: 9.1+ MB\n"
     ]
    }
   ],
   "source": [
    "departure.info()"
   ]
  },
  {
   "cell_type": "code",
   "execution_count": 6,
   "metadata": {},
   "outputs": [],
   "source": [
    "##EDA"
   ]
  },
  {
   "cell_type": "code",
   "execution_count": 7,
   "metadata": {},
   "outputs": [],
   "source": [
    "departure=departure.rename(columns={\"Res. No\": \"Res_num\"})\n",
    "departure=departure.rename(columns={\"Adults/Ch.\": \"Adults_Child\"})\n",
    "departure=departure.rename(columns={\"Rm. Rate\": \"Room_Rate\"})"
   ]
  },
  {
   "cell_type": "code",
   "execution_count": 8,
   "metadata": {},
   "outputs": [],
   "source": [
    "#MISSING VALUE TREATMENT"
   ]
  },
  {
   "cell_type": "code",
   "execution_count": 9,
   "metadata": {},
   "outputs": [
    {
     "data": {
      "text/html": [
       "<div>\n",
       "<style scoped>\n",
       "    .dataframe tbody tr th:only-of-type {\n",
       "        vertical-align: middle;\n",
       "    }\n",
       "\n",
       "    .dataframe tbody tr th {\n",
       "        vertical-align: top;\n",
       "    }\n",
       "\n",
       "    .dataframe thead th {\n",
       "        text-align: right;\n",
       "    }\n",
       "</style>\n",
       "<table border=\"1\" class=\"dataframe\">\n",
       "  <thead>\n",
       "    <tr style=\"text-align: right;\">\n",
       "      <th></th>\n",
       "      <th>Number of Null</th>\n",
       "    </tr>\n",
       "  </thead>\n",
       "  <tbody>\n",
       "    <tr>\n",
       "      <th>Nation</th>\n",
       "      <td>1914</td>\n",
       "    </tr>\n",
       "    <tr>\n",
       "      <th>Continet</th>\n",
       "      <td>1914</td>\n",
       "    </tr>\n",
       "    <tr>\n",
       "      <th>Source</th>\n",
       "      <td>185</td>\n",
       "    </tr>\n",
       "    <tr>\n",
       "      <th>Name</th>\n",
       "      <td>0</td>\n",
       "    </tr>\n",
       "    <tr>\n",
       "      <th>Res_No</th>\n",
       "      <td>0</td>\n",
       "    </tr>\n",
       "    <tr>\n",
       "      <th>Sub_cat</th>\n",
       "      <td>0</td>\n",
       "    </tr>\n",
       "    <tr>\n",
       "      <th>Macro_RT</th>\n",
       "      <td>0</td>\n",
       "    </tr>\n",
       "    <tr>\n",
       "      <th>Arrival</th>\n",
       "      <td>0</td>\n",
       "    </tr>\n",
       "    <tr>\n",
       "      <th>Departure</th>\n",
       "      <td>0</td>\n",
       "    </tr>\n",
       "    <tr>\n",
       "      <th>Adults_Ch</th>\n",
       "      <td>0</td>\n",
       "    </tr>\n",
       "    <tr>\n",
       "      <th>Source_Group</th>\n",
       "      <td>0</td>\n",
       "    </tr>\n",
       "    <tr>\n",
       "      <th>Room_Rate</th>\n",
       "      <td>0</td>\n",
       "    </tr>\n",
       "    <tr>\n",
       "      <th>Res_Date</th>\n",
       "      <td>0</td>\n",
       "    </tr>\n",
       "  </tbody>\n",
       "</table>\n",
       "</div>"
      ],
      "text/plain": [
       "              Number of Null\n",
       "Nation                  1914\n",
       "Continet                1914\n",
       "Source                   185\n",
       "Name                       0\n",
       "Res_No                     0\n",
       "Sub_cat                    0\n",
       "Macro_RT                   0\n",
       "Arrival                    0\n",
       "Departure                  0\n",
       "Adults_Ch                  0\n",
       "Source_Group               0\n",
       "Room_Rate                  0\n",
       "Res_Date                   0"
      ]
     },
     "execution_count": 9,
     "metadata": {},
     "output_type": "execute_result"
    }
   ],
   "source": [
    "pd.DataFrame(departure.isnull().sum().sort_values(ascending=False), columns = ['Number of Null'])"
   ]
  },
  {
   "cell_type": "code",
   "execution_count": 10,
   "metadata": {},
   "outputs": [],
   "source": [
    "departure = departure[departure.Room_Rate != 0.0]\n",
    "departure.dropna(subset=['Source'],inplace=True)\n",
    "departure['Continent'] = departure['Continet'].fillna(departure['Continet'].mode()[0])"
   ]
  },
  {
   "cell_type": "code",
   "execution_count": 11,
   "metadata": {},
   "outputs": [],
   "source": [
    "#CREATING NEW FEATURE COLUMNS"
   ]
  },
  {
   "cell_type": "code",
   "execution_count": 12,
   "metadata": {},
   "outputs": [],
   "source": [
    "departure['Arrival']=pd.to_datetime(departure['Arrival'], format='%d/%m/%y')\n",
    "departure['Departure']=pd.to_datetime(departure['Departure'],format='%d/%m/%y')\n",
    "departure['Res. Date']=pd.to_datetime(departure['Res_Date'],format='%d/%m/%y')"
   ]
  },
  {
   "cell_type": "code",
   "execution_count": 13,
   "metadata": {},
   "outputs": [],
   "source": [
    "departure['Duration']=departure['Departure']-departure['Arrival']\n",
    "departure['Booking_time']=departure['Arrival']-departure['Res_Date']"
   ]
  },
  {
   "cell_type": "code",
   "execution_count": 14,
   "metadata": {},
   "outputs": [
    {
     "data": {
      "text/html": [
       "<div>\n",
       "<style scoped>\n",
       "    .dataframe tbody tr th:only-of-type {\n",
       "        vertical-align: middle;\n",
       "    }\n",
       "\n",
       "    .dataframe tbody tr th {\n",
       "        vertical-align: top;\n",
       "    }\n",
       "\n",
       "    .dataframe thead th {\n",
       "        text-align: right;\n",
       "    }\n",
       "</style>\n",
       "<table border=\"1\" class=\"dataframe\">\n",
       "  <thead>\n",
       "    <tr style=\"text-align: right;\">\n",
       "      <th></th>\n",
       "      <th>Name</th>\n",
       "      <th>Res_No</th>\n",
       "      <th>Sub_cat</th>\n",
       "      <th>Macro_RT</th>\n",
       "      <th>Arrival</th>\n",
       "      <th>Departure</th>\n",
       "      <th>Adults_Ch</th>\n",
       "      <th>Nation</th>\n",
       "      <th>Continet</th>\n",
       "      <th>Source</th>\n",
       "      <th>Source_Group</th>\n",
       "      <th>Room_Rate</th>\n",
       "      <th>Res_Date</th>\n",
       "      <th>Continent</th>\n",
       "      <th>Res. Date</th>\n",
       "      <th>Duration</th>\n",
       "      <th>Booking_time</th>\n",
       "    </tr>\n",
       "  </thead>\n",
       "  <tbody>\n",
       "    <tr>\n",
       "      <th>0</th>\n",
       "      <td>1Puranik, Panduranga</td>\n",
       "      <td>702217</td>\n",
       "      <td>DQB</td>\n",
       "      <td>Deluxe</td>\n",
       "      <td>2018-08-23</td>\n",
       "      <td>2018-08-24</td>\n",
       "      <td>1 / 0</td>\n",
       "      <td>India</td>\n",
       "      <td>India</td>\n",
       "      <td>RSOB</td>\n",
       "      <td>Others</td>\n",
       "      <td>5000.00</td>\n",
       "      <td>2018-08-14</td>\n",
       "      <td>India</td>\n",
       "      <td>2018-08-14</td>\n",
       "      <td>1 days</td>\n",
       "      <td>9 days</td>\n",
       "    </tr>\n",
       "    <tr>\n",
       "      <th>1</th>\n",
       "      <td>Aljaadi, Gamila</td>\n",
       "      <td>719917</td>\n",
       "      <td>DQB</td>\n",
       "      <td>Deluxe</td>\n",
       "      <td>2018-10-30</td>\n",
       "      <td>2018-11-01</td>\n",
       "      <td>1 / 0</td>\n",
       "      <td>Oman</td>\n",
       "      <td>Asia</td>\n",
       "      <td>BOOKINGS.COM</td>\n",
       "      <td>Online Aggregators</td>\n",
       "      <td>4479.20</td>\n",
       "      <td>2018-10-29</td>\n",
       "      <td>Asia</td>\n",
       "      <td>2018-10-29</td>\n",
       "      <td>2 days</td>\n",
       "      <td>1 days</td>\n",
       "    </tr>\n",
       "    <tr>\n",
       "      <th>2</th>\n",
       "      <td>Carpaij, Sander Wouter Maarten</td>\n",
       "      <td>706281</td>\n",
       "      <td>DQB</td>\n",
       "      <td>Deluxe</td>\n",
       "      <td>2018-09-05</td>\n",
       "      <td>2018-09-09</td>\n",
       "      <td>1 / 0</td>\n",
       "      <td>NaN</td>\n",
       "      <td>NaN</td>\n",
       "      <td>CSO</td>\n",
       "      <td>Sales Team</td>\n",
       "      <td>5000.00</td>\n",
       "      <td>2018-08-31</td>\n",
       "      <td>India</td>\n",
       "      <td>2018-08-31</td>\n",
       "      <td>4 days</td>\n",
       "      <td>5 days</td>\n",
       "    </tr>\n",
       "    <tr>\n",
       "      <th>3</th>\n",
       "      <td>Chachad, Asmit</td>\n",
       "      <td>673325</td>\n",
       "      <td>DQB</td>\n",
       "      <td>Deluxe</td>\n",
       "      <td>2018-04-15</td>\n",
       "      <td>2018-04-16</td>\n",
       "      <td>1 / 0</td>\n",
       "      <td>India</td>\n",
       "      <td>India</td>\n",
       "      <td>RSOM</td>\n",
       "      <td>Others</td>\n",
       "      <td>4630.01</td>\n",
       "      <td>2018-04-13</td>\n",
       "      <td>India</td>\n",
       "      <td>2018-04-13</td>\n",
       "      <td>1 days</td>\n",
       "      <td>2 days</td>\n",
       "    </tr>\n",
       "    <tr>\n",
       "      <th>4</th>\n",
       "      <td>Gandhi, Raj</td>\n",
       "      <td>723991</td>\n",
       "      <td>DQB</td>\n",
       "      <td>Deluxe</td>\n",
       "      <td>2018-12-09</td>\n",
       "      <td>2018-12-13</td>\n",
       "      <td>1 / 0</td>\n",
       "      <td>India</td>\n",
       "      <td>India</td>\n",
       "      <td>CSO</td>\n",
       "      <td>Sales Team</td>\n",
       "      <td>5000.00</td>\n",
       "      <td>2018-11-16</td>\n",
       "      <td>India</td>\n",
       "      <td>2018-11-16</td>\n",
       "      <td>4 days</td>\n",
       "      <td>23 days</td>\n",
       "    </tr>\n",
       "  </tbody>\n",
       "</table>\n",
       "</div>"
      ],
      "text/plain": [
       "                              Name  Res_No Sub_cat Macro_RT    Arrival  \\\n",
       "0             1Puranik, Panduranga  702217     DQB   Deluxe 2018-08-23   \n",
       "1                  Aljaadi, Gamila  719917     DQB   Deluxe 2018-10-30   \n",
       "2   Carpaij, Sander Wouter Maarten  706281     DQB   Deluxe 2018-09-05   \n",
       "3                   Chachad, Asmit  673325     DQB   Deluxe 2018-04-15   \n",
       "4                      Gandhi, Raj  723991     DQB   Deluxe 2018-12-09   \n",
       "\n",
       "   Departure Adults_Ch Nation Continet        Source        Source_Group  \\\n",
       "0 2018-08-24     1 / 0  India    India          RSOB              Others   \n",
       "1 2018-11-01     1 / 0   Oman     Asia  BOOKINGS.COM  Online Aggregators   \n",
       "2 2018-09-09     1 / 0    NaN      NaN           CSO          Sales Team   \n",
       "3 2018-04-16     1 / 0  India    India          RSOM              Others   \n",
       "4 2018-12-13     1 / 0  India    India           CSO          Sales Team   \n",
       "\n",
       "   Room_Rate   Res_Date Continent  Res. Date Duration Booking_time  \n",
       "0    5000.00 2018-08-14     India 2018-08-14   1 days       9 days  \n",
       "1    4479.20 2018-10-29      Asia 2018-10-29   2 days       1 days  \n",
       "2    5000.00 2018-08-31     India 2018-08-31   4 days       5 days  \n",
       "3    4630.01 2018-04-13     India 2018-04-13   1 days       2 days  \n",
       "4    5000.00 2018-11-16     India 2018-11-16   4 days      23 days  "
      ]
     },
     "execution_count": 14,
     "metadata": {},
     "output_type": "execute_result"
    }
   ],
   "source": [
    "departure.head()"
   ]
  },
  {
   "cell_type": "code",
   "execution_count": 15,
   "metadata": {},
   "outputs": [],
   "source": [
    "departure['Booking_time'] = pd.to_numeric(departure['Booking_time'].dt.days, downcast='integer')\n",
    "departure['Duration'] = pd.to_numeric(departure['Duration'].dt.days, downcast='integer')"
   ]
  },
  {
   "cell_type": "code",
   "execution_count": 16,
   "metadata": {},
   "outputs": [
    {
     "data": {
      "text/plain": [
       "(91066, 17)"
      ]
     },
     "execution_count": 16,
     "metadata": {},
     "output_type": "execute_result"
    }
   ],
   "source": [
    "departure.shape"
   ]
  },
  {
   "cell_type": "code",
   "execution_count": 17,
   "metadata": {},
   "outputs": [],
   "source": [
    "#ENCODING"
   ]
  },
  {
   "cell_type": "code",
   "execution_count": 18,
   "metadata": {},
   "outputs": [],
   "source": [
    "Macro_RT_dict = {\"Deluxe\":1, \"Club_Room\":2, \"Studio\":3 ,\"Suite\":4}\n",
    "departure[\"Macro_RT\"] = departure[\"Macro_RT\"].replace(Macro_RT_dict)"
   ]
  },
  {
   "cell_type": "code",
   "execution_count": 19,
   "metadata": {},
   "outputs": [],
   "source": [
    "departure['Source_Group']=le.fit_transform(departure['Source_Group'].values)\n",
    "departure['Continent']=le.fit_transform(departure['Continent'].values)"
   ]
  },
  {
   "cell_type": "code",
   "execution_count": 20,
   "metadata": {},
   "outputs": [],
   "source": [
    "departure_final=departure[['Macro_RT','Continent','Source_Group','Duration','Booking_time','Room_Rate']]"
   ]
  },
  {
   "cell_type": "code",
   "execution_count": 21,
   "metadata": {},
   "outputs": [
    {
     "data": {
      "text/html": [
       "<div>\n",
       "<style scoped>\n",
       "    .dataframe tbody tr th:only-of-type {\n",
       "        vertical-align: middle;\n",
       "    }\n",
       "\n",
       "    .dataframe tbody tr th {\n",
       "        vertical-align: top;\n",
       "    }\n",
       "\n",
       "    .dataframe thead th {\n",
       "        text-align: right;\n",
       "    }\n",
       "</style>\n",
       "<table border=\"1\" class=\"dataframe\">\n",
       "  <thead>\n",
       "    <tr style=\"text-align: right;\">\n",
       "      <th></th>\n",
       "      <th>Macro_RT</th>\n",
       "      <th>Continent</th>\n",
       "      <th>Source_Group</th>\n",
       "      <th>Duration</th>\n",
       "      <th>Booking_time</th>\n",
       "      <th>Room_Rate</th>\n",
       "    </tr>\n",
       "  </thead>\n",
       "  <tbody>\n",
       "    <tr>\n",
       "      <th>0</th>\n",
       "      <td>1</td>\n",
       "      <td>4</td>\n",
       "      <td>1</td>\n",
       "      <td>1</td>\n",
       "      <td>9</td>\n",
       "      <td>5000.00</td>\n",
       "    </tr>\n",
       "    <tr>\n",
       "      <th>1</th>\n",
       "      <td>1</td>\n",
       "      <td>1</td>\n",
       "      <td>0</td>\n",
       "      <td>2</td>\n",
       "      <td>1</td>\n",
       "      <td>4479.20</td>\n",
       "    </tr>\n",
       "    <tr>\n",
       "      <th>2</th>\n",
       "      <td>1</td>\n",
       "      <td>4</td>\n",
       "      <td>2</td>\n",
       "      <td>4</td>\n",
       "      <td>5</td>\n",
       "      <td>5000.00</td>\n",
       "    </tr>\n",
       "    <tr>\n",
       "      <th>3</th>\n",
       "      <td>1</td>\n",
       "      <td>4</td>\n",
       "      <td>1</td>\n",
       "      <td>1</td>\n",
       "      <td>2</td>\n",
       "      <td>4630.01</td>\n",
       "    </tr>\n",
       "    <tr>\n",
       "      <th>4</th>\n",
       "      <td>1</td>\n",
       "      <td>4</td>\n",
       "      <td>2</td>\n",
       "      <td>4</td>\n",
       "      <td>23</td>\n",
       "      <td>5000.00</td>\n",
       "    </tr>\n",
       "  </tbody>\n",
       "</table>\n",
       "</div>"
      ],
      "text/plain": [
       "   Macro_RT  Continent  Source_Group  Duration  Booking_time  Room_Rate\n",
       "0         1          4             1         1             9    5000.00\n",
       "1         1          1             0         2             1    4479.20\n",
       "2         1          4             2         4             5    5000.00\n",
       "3         1          4             1         1             2    4630.01\n",
       "4         1          4             2         4            23    5000.00"
      ]
     },
     "execution_count": 21,
     "metadata": {},
     "output_type": "execute_result"
    }
   ],
   "source": [
    "departure_final.head()"
   ]
  },
  {
   "cell_type": "code",
   "execution_count": 22,
   "metadata": {},
   "outputs": [
    {
     "data": {
      "text/html": [
       "<div>\n",
       "<style scoped>\n",
       "    .dataframe tbody tr th:only-of-type {\n",
       "        vertical-align: middle;\n",
       "    }\n",
       "\n",
       "    .dataframe tbody tr th {\n",
       "        vertical-align: top;\n",
       "    }\n",
       "\n",
       "    .dataframe thead th {\n",
       "        text-align: right;\n",
       "    }\n",
       "</style>\n",
       "<table border=\"1\" class=\"dataframe\">\n",
       "  <thead>\n",
       "    <tr style=\"text-align: right;\">\n",
       "      <th></th>\n",
       "      <th>Macro_RT</th>\n",
       "      <th>Continent</th>\n",
       "      <th>Source_Group</th>\n",
       "      <th>Duration</th>\n",
       "      <th>Booking_time</th>\n",
       "      <th>Room_Rate</th>\n",
       "    </tr>\n",
       "  </thead>\n",
       "  <tbody>\n",
       "    <tr>\n",
       "      <th>count</th>\n",
       "      <td>91066.000000</td>\n",
       "      <td>91066.000000</td>\n",
       "      <td>91066.000000</td>\n",
       "      <td>91066.000000</td>\n",
       "      <td>91066.000000</td>\n",
       "      <td>91066.000000</td>\n",
       "    </tr>\n",
       "    <tr>\n",
       "      <th>mean</th>\n",
       "      <td>1.299552</td>\n",
       "      <td>3.541278</td>\n",
       "      <td>1.270134</td>\n",
       "      <td>2.147563</td>\n",
       "      <td>15.889355</td>\n",
       "      <td>5130.953953</td>\n",
       "    </tr>\n",
       "    <tr>\n",
       "      <th>std</th>\n",
       "      <td>0.602376</td>\n",
       "      <td>1.116491</td>\n",
       "      <td>1.132862</td>\n",
       "      <td>3.344456</td>\n",
       "      <td>44.650518</td>\n",
       "      <td>1151.520778</td>\n",
       "    </tr>\n",
       "    <tr>\n",
       "      <th>min</th>\n",
       "      <td>1.000000</td>\n",
       "      <td>0.000000</td>\n",
       "      <td>0.000000</td>\n",
       "      <td>0.000000</td>\n",
       "      <td>-1.000000</td>\n",
       "      <td>1611.280000</td>\n",
       "    </tr>\n",
       "    <tr>\n",
       "      <th>25%</th>\n",
       "      <td>1.000000</td>\n",
       "      <td>4.000000</td>\n",
       "      <td>0.000000</td>\n",
       "      <td>1.000000</td>\n",
       "      <td>1.000000</td>\n",
       "      <td>4500.000000</td>\n",
       "    </tr>\n",
       "    <tr>\n",
       "      <th>50%</th>\n",
       "      <td>1.000000</td>\n",
       "      <td>4.000000</td>\n",
       "      <td>1.000000</td>\n",
       "      <td>1.000000</td>\n",
       "      <td>3.000000</td>\n",
       "      <td>5000.000000</td>\n",
       "    </tr>\n",
       "    <tr>\n",
       "      <th>75%</th>\n",
       "      <td>1.000000</td>\n",
       "      <td>4.000000</td>\n",
       "      <td>2.000000</td>\n",
       "      <td>2.000000</td>\n",
       "      <td>12.000000</td>\n",
       "      <td>5500.000000</td>\n",
       "    </tr>\n",
       "    <tr>\n",
       "      <th>max</th>\n",
       "      <td>4.000000</td>\n",
       "      <td>7.000000</td>\n",
       "      <td>4.000000</td>\n",
       "      <td>300.000000</td>\n",
       "      <td>1638.000000</td>\n",
       "      <td>25000.000000</td>\n",
       "    </tr>\n",
       "  </tbody>\n",
       "</table>\n",
       "</div>"
      ],
      "text/plain": [
       "           Macro_RT     Continent  Source_Group      Duration  Booking_time  \\\n",
       "count  91066.000000  91066.000000  91066.000000  91066.000000  91066.000000   \n",
       "mean       1.299552      3.541278      1.270134      2.147563     15.889355   \n",
       "std        0.602376      1.116491      1.132862      3.344456     44.650518   \n",
       "min        1.000000      0.000000      0.000000      0.000000     -1.000000   \n",
       "25%        1.000000      4.000000      0.000000      1.000000      1.000000   \n",
       "50%        1.000000      4.000000      1.000000      1.000000      3.000000   \n",
       "75%        1.000000      4.000000      2.000000      2.000000     12.000000   \n",
       "max        4.000000      7.000000      4.000000    300.000000   1638.000000   \n",
       "\n",
       "          Room_Rate  \n",
       "count  91066.000000  \n",
       "mean    5130.953953  \n",
       "std     1151.520778  \n",
       "min     1611.280000  \n",
       "25%     4500.000000  \n",
       "50%     5000.000000  \n",
       "75%     5500.000000  \n",
       "max    25000.000000  "
      ]
     },
     "execution_count": 22,
     "metadata": {},
     "output_type": "execute_result"
    }
   ],
   "source": [
    "departure_final.describe()"
   ]
  },
  {
   "cell_type": "code",
   "execution_count": 23,
   "metadata": {},
   "outputs": [
    {
     "data": {
      "text/html": [
       "<div>\n",
       "<style scoped>\n",
       "    .dataframe tbody tr th:only-of-type {\n",
       "        vertical-align: middle;\n",
       "    }\n",
       "\n",
       "    .dataframe tbody tr th {\n",
       "        vertical-align: top;\n",
       "    }\n",
       "\n",
       "    .dataframe thead th {\n",
       "        text-align: right;\n",
       "    }\n",
       "</style>\n",
       "<table border=\"1\" class=\"dataframe\">\n",
       "  <thead>\n",
       "    <tr style=\"text-align: right;\">\n",
       "      <th></th>\n",
       "      <th>Macro_RT</th>\n",
       "      <th>Continent</th>\n",
       "      <th>Source_Group</th>\n",
       "      <th>Duration</th>\n",
       "      <th>Booking_time</th>\n",
       "      <th>Room_Rate</th>\n",
       "    </tr>\n",
       "  </thead>\n",
       "  <tbody>\n",
       "    <tr>\n",
       "      <th>count</th>\n",
       "      <td>91066.000000</td>\n",
       "      <td>91066.000000</td>\n",
       "      <td>91066.000000</td>\n",
       "      <td>91066.000000</td>\n",
       "      <td>91066.000000</td>\n",
       "      <td>91066.000000</td>\n",
       "    </tr>\n",
       "    <tr>\n",
       "      <th>mean</th>\n",
       "      <td>1.299552</td>\n",
       "      <td>3.541278</td>\n",
       "      <td>1.270134</td>\n",
       "      <td>2.147563</td>\n",
       "      <td>15.889355</td>\n",
       "      <td>5130.953953</td>\n",
       "    </tr>\n",
       "    <tr>\n",
       "      <th>std</th>\n",
       "      <td>0.602376</td>\n",
       "      <td>1.116491</td>\n",
       "      <td>1.132862</td>\n",
       "      <td>3.344456</td>\n",
       "      <td>44.650518</td>\n",
       "      <td>1151.520778</td>\n",
       "    </tr>\n",
       "    <tr>\n",
       "      <th>min</th>\n",
       "      <td>1.000000</td>\n",
       "      <td>0.000000</td>\n",
       "      <td>0.000000</td>\n",
       "      <td>0.000000</td>\n",
       "      <td>-1.000000</td>\n",
       "      <td>1611.280000</td>\n",
       "    </tr>\n",
       "    <tr>\n",
       "      <th>50%</th>\n",
       "      <td>1.000000</td>\n",
       "      <td>4.000000</td>\n",
       "      <td>1.000000</td>\n",
       "      <td>1.000000</td>\n",
       "      <td>3.000000</td>\n",
       "      <td>5000.000000</td>\n",
       "    </tr>\n",
       "    <tr>\n",
       "      <th>90%</th>\n",
       "      <td>2.000000</td>\n",
       "      <td>4.000000</td>\n",
       "      <td>2.000000</td>\n",
       "      <td>4.000000</td>\n",
       "      <td>36.000000</td>\n",
       "      <td>6411.715000</td>\n",
       "    </tr>\n",
       "    <tr>\n",
       "      <th>max</th>\n",
       "      <td>4.000000</td>\n",
       "      <td>7.000000</td>\n",
       "      <td>4.000000</td>\n",
       "      <td>300.000000</td>\n",
       "      <td>1638.000000</td>\n",
       "      <td>25000.000000</td>\n",
       "    </tr>\n",
       "  </tbody>\n",
       "</table>\n",
       "</div>"
      ],
      "text/plain": [
       "           Macro_RT     Continent  Source_Group      Duration  Booking_time  \\\n",
       "count  91066.000000  91066.000000  91066.000000  91066.000000  91066.000000   \n",
       "mean       1.299552      3.541278      1.270134      2.147563     15.889355   \n",
       "std        0.602376      1.116491      1.132862      3.344456     44.650518   \n",
       "min        1.000000      0.000000      0.000000      0.000000     -1.000000   \n",
       "50%        1.000000      4.000000      1.000000      1.000000      3.000000   \n",
       "90%        2.000000      4.000000      2.000000      4.000000     36.000000   \n",
       "max        4.000000      7.000000      4.000000    300.000000   1638.000000   \n",
       "\n",
       "          Room_Rate  \n",
       "count  91066.000000  \n",
       "mean    5130.953953  \n",
       "std     1151.520778  \n",
       "min     1611.280000  \n",
       "50%     5000.000000  \n",
       "90%     6411.715000  \n",
       "max    25000.000000  "
      ]
     },
     "execution_count": 23,
     "metadata": {},
     "output_type": "execute_result"
    }
   ],
   "source": [
    "departure_final.describe(percentiles=[0.90])"
   ]
  },
  {
   "cell_type": "code",
   "execution_count": 24,
   "metadata": {},
   "outputs": [],
   "source": [
    "#OUTLIER TREATMENT "
   ]
  },
  {
   "cell_type": "code",
   "execution_count": 25,
   "metadata": {},
   "outputs": [
    {
     "data": {
      "text/plain": [
       "<AxesSubplot:ylabel='Booking_time'>"
      ]
     },
     "execution_count": 25,
     "metadata": {},
     "output_type": "execute_result"
    },
    {
     "data": {
      "image/png": "[encoded data removed]",
      "text/plain": [
       "<Figure size 432x288 with 1 Axes>"
      ]
     },
     "metadata": {
      "needs_background": "light"
     },
     "output_type": "display_data"
    }
   ],
   "source": [
    "sns.boxplot(y=departure_final['Booking_time'])"
   ]
  },
  {
   "cell_type": "code",
   "execution_count": 26,
   "metadata": {},
   "outputs": [
    {
     "data": {
      "text/plain": [
       "<AxesSubplot:ylabel='Duration'>"
      ]
     },
     "execution_count": 26,
     "metadata": {},
     "output_type": "execute_result"
    },
    {
     "data": {
      "image/png": "[encoded data removed]",
      "text/plain": [
       "<Figure size 432x288 with 1 Axes>"
      ]
     },
     "metadata": {
      "needs_background": "light"
     },
     "output_type": "display_data"
    }
   ],
   "source": [
    "sns.boxplot(y=departure_final['Duration'])"
   ]
  },
  {
   "cell_type": "code",
   "execution_count": 27,
   "metadata": {},
   "outputs": [],
   "source": [
    "departure_final.loc[(departure_final.Duration >4),'Duration']=4\n",
    "departure_final.loc[(departure_final.Booking_time >36),'Booking_time']=36"
   ]
  },
  {
   "cell_type": "code",
   "execution_count": 28,
   "metadata": {},
   "outputs": [
    {
     "data": {
      "text/plain": [
       "<AxesSubplot:ylabel='Duration'>"
      ]
     },
     "execution_count": 28,
     "metadata": {},
     "output_type": "execute_result"
    },
    {
     "data": {
      "image/png": "[encoded data removed]",
      "text/plain": [
       "<Figure size 432x288 with 1 Axes>"
      ]
     },
     "metadata": {
      "needs_background": "light"
     },
     "output_type": "display_data"
    }
   ],
   "source": [
    "sns.boxplot(y=departure_final['Duration'])"
   ]
  },
  {
   "cell_type": "code",
   "execution_count": 29,
   "metadata": {},
   "outputs": [
    {
     "data": {
      "text/plain": [
       "<AxesSubplot:ylabel='Booking_time'>"
      ]
     },
     "execution_count": 29,
     "metadata": {},
     "output_type": "execute_result"
    },
    {
     "data": {
      "image/png": "[encoded data removed]",
      "text/plain": [
       "<Figure size 432x288 with 1 Axes>"
      ]
     },
     "metadata": {
      "needs_background": "light"
     },
     "output_type": "display_data"
    }
   ],
   "source": [
    "sns.boxplot(y=departure_final['Booking_time'])"
   ]
  },
  {
   "cell_type": "code",
   "execution_count": 30,
   "metadata": {},
   "outputs": [
    {
     "data": {
      "text/html": [
       "<div>\n",
       "<style scoped>\n",
       "    .dataframe tbody tr th:only-of-type {\n",
       "        vertical-align: middle;\n",
       "    }\n",
       "\n",
       "    .dataframe tbody tr th {\n",
       "        vertical-align: top;\n",
       "    }\n",
       "\n",
       "    .dataframe thead th {\n",
       "        text-align: right;\n",
       "    }\n",
       "</style>\n",
       "<table border=\"1\" class=\"dataframe\">\n",
       "  <thead>\n",
       "    <tr style=\"text-align: right;\">\n",
       "      <th></th>\n",
       "      <th>Macro_RT</th>\n",
       "      <th>Continent</th>\n",
       "      <th>Source_Group</th>\n",
       "      <th>Duration</th>\n",
       "      <th>Booking_time</th>\n",
       "      <th>Room_Rate</th>\n",
       "    </tr>\n",
       "  </thead>\n",
       "  <tbody>\n",
       "    <tr>\n",
       "      <th>count</th>\n",
       "      <td>91066.000000</td>\n",
       "      <td>91066.000000</td>\n",
       "      <td>91066.000000</td>\n",
       "      <td>91066.000000</td>\n",
       "      <td>91066.000000</td>\n",
       "      <td>91066.000000</td>\n",
       "    </tr>\n",
       "    <tr>\n",
       "      <th>mean</th>\n",
       "      <td>1.299552</td>\n",
       "      <td>3.541278</td>\n",
       "      <td>1.270134</td>\n",
       "      <td>1.785112</td>\n",
       "      <td>8.661158</td>\n",
       "      <td>5130.953953</td>\n",
       "    </tr>\n",
       "    <tr>\n",
       "      <th>std</th>\n",
       "      <td>0.602376</td>\n",
       "      <td>1.116491</td>\n",
       "      <td>1.132862</td>\n",
       "      <td>1.066842</td>\n",
       "      <td>11.620416</td>\n",
       "      <td>1151.520778</td>\n",
       "    </tr>\n",
       "    <tr>\n",
       "      <th>min</th>\n",
       "      <td>1.000000</td>\n",
       "      <td>0.000000</td>\n",
       "      <td>0.000000</td>\n",
       "      <td>0.000000</td>\n",
       "      <td>-1.000000</td>\n",
       "      <td>1611.280000</td>\n",
       "    </tr>\n",
       "    <tr>\n",
       "      <th>50%</th>\n",
       "      <td>1.000000</td>\n",
       "      <td>4.000000</td>\n",
       "      <td>1.000000</td>\n",
       "      <td>1.000000</td>\n",
       "      <td>3.000000</td>\n",
       "      <td>5000.000000</td>\n",
       "    </tr>\n",
       "    <tr>\n",
       "      <th>99%</th>\n",
       "      <td>4.000000</td>\n",
       "      <td>5.000000</td>\n",
       "      <td>4.000000</td>\n",
       "      <td>4.000000</td>\n",
       "      <td>36.000000</td>\n",
       "      <td>10000.000000</td>\n",
       "    </tr>\n",
       "    <tr>\n",
       "      <th>max</th>\n",
       "      <td>4.000000</td>\n",
       "      <td>7.000000</td>\n",
       "      <td>4.000000</td>\n",
       "      <td>4.000000</td>\n",
       "      <td>36.000000</td>\n",
       "      <td>25000.000000</td>\n",
       "    </tr>\n",
       "  </tbody>\n",
       "</table>\n",
       "</div>"
      ],
      "text/plain": [
       "           Macro_RT     Continent  Source_Group      Duration  Booking_time  \\\n",
       "count  91066.000000  91066.000000  91066.000000  91066.000000  91066.000000   \n",
       "mean       1.299552      3.541278      1.270134      1.785112      8.661158   \n",
       "std        0.602376      1.116491      1.132862      1.066842     11.620416   \n",
       "min        1.000000      0.000000      0.000000      0.000000     -1.000000   \n",
       "50%        1.000000      4.000000      1.000000      1.000000      3.000000   \n",
       "99%        4.000000      5.000000      4.000000      4.000000     36.000000   \n",
       "max        4.000000      7.000000      4.000000      4.000000     36.000000   \n",
       "\n",
       "          Room_Rate  \n",
       "count  91066.000000  \n",
       "mean    5130.953953  \n",
       "std     1151.520778  \n",
       "min     1611.280000  \n",
       "50%     5000.000000  \n",
       "99%    10000.000000  \n",
       "max    25000.000000  "
      ]
     },
     "execution_count": 30,
     "metadata": {},
     "output_type": "execute_result"
    }
   ],
   "source": [
    "departure_final.describe(percentiles=[0.99])"
   ]
  },
  {
   "cell_type": "code",
   "execution_count": 31,
   "metadata": {},
   "outputs": [],
   "source": [
    "departure_final.loc[(departure_final.Room_Rate >10000),'Room_Rate']=10000"
   ]
  },
  {
   "cell_type": "code",
   "execution_count": 32,
   "metadata": {},
   "outputs": [],
   "source": [
    "#CORRELATION CHECK"
   ]
  },
  {
   "cell_type": "code",
   "execution_count": 33,
   "metadata": {},
   "outputs": [
    {
     "data": {
      "image/png": "[encoded data removed]",
      "text/plain": [
       "<Figure size 432x288 with 2 Axes>"
      ]
     },
     "metadata": {
      "needs_background": "light"
     },
     "output_type": "display_data"
    }
   ],
   "source": [
    "correlation_plot = sns.heatmap(departure_final.corr(), annot=True)"
   ]
  },
  {
   "cell_type": "code",
   "execution_count": 34,
   "metadata": {},
   "outputs": [
    {
     "data": {
      "text/plain": [
       "array([[<AxesSubplot:title={'center':'Room_Rate'}>]], dtype=object)"
      ]
     },
     "execution_count": 34,
     "metadata": {},
     "output_type": "execute_result"
    },
    {
     "data": {
      "image/png": "[encoded data removed]",
      "text/plain": [
       "<Figure size 432x288 with 1 Axes>"
      ]
     },
     "metadata": {
      "needs_background": "light"
     },
     "output_type": "display_data"
    }
   ],
   "source": [
    "departure_final.hist(column='Room_Rate')"
   ]
  },
  {
   "cell_type": "code",
   "execution_count": 35,
   "metadata": {},
   "outputs": [
    {
     "data": {
      "text/plain": [
       "array([[<AxesSubplot:title={'center':'logRoom_Rate'}>]], dtype=object)"
      ]
     },
     "execution_count": 35,
     "metadata": {},
     "output_type": "execute_result"
    },
    {
     "data": {
      "image/png": "[encoded data removed]",
      "text/plain": [
       "<Figure size 432x288 with 1 Axes>"
      ]
     },
     "metadata": {
      "needs_background": "light"
     },
     "output_type": "display_data"
    }
   ],
   "source": [
    "#Log Transformed\n",
    "departure_final['logRoom_Rate'] = np.log1p(departure_final['Room_Rate'])\n",
    "departure_final.hist(column='logRoom_Rate')"
   ]
  },
  {
   "cell_type": "code",
   "execution_count": 36,
   "metadata": {},
   "outputs": [],
   "source": [
    "#PAIRPLOT"
   ]
  },
  {
   "cell_type": "code",
   "execution_count": 37,
   "metadata": {},
   "outputs": [
    {
     "data": {
      "text/plain": [
       "<seaborn.axisgrid.PairGrid at 0x1f4c44dfdc0>"
      ]
     },
     "execution_count": 37,
     "metadata": {},
     "output_type": "execute_result"
    },
    {
     "data": {
      "text/plain": [
       "<Figure size 1296x1008 with 0 Axes>"
      ]
     },
     "metadata": {},
     "output_type": "display_data"
    },
    {
     "data": {
      "image/png": "[encoded data removed]",
      "text/plain": [
       "<Figure size 1296x1296 with 42 Axes>"
      ]
     },
     "metadata": {
      "needs_background": "light"
     },
     "output_type": "display_data"
    }
   ],
   "source": [
    "plt.figure(figsize=(18,14))\n",
    "\n",
    "pairplot_data = departure_final[['Macro_RT','Continent', 'Source_Group', 'Duration', \n",
    "                        'Booking_time','Room_Rate']]\n",
    "\n",
    "ax2 =sns.pairplot(pairplot_data, kind=\"reg\", size=3,plot_kws={'line_kws':{'color':'red'}})\n",
    "ax2"
   ]
  },
  {
   "cell_type": "code",
   "execution_count": 38,
   "metadata": {},
   "outputs": [
    {
     "name": "stdout",
     "output_type": "stream",
     "text": [
      "<class 'pandas.core.frame.DataFrame'>\n",
      "Int64Index: 91066 entries, 0 to 91250\n",
      "Data columns (total 7 columns):\n",
      " #   Column        Non-Null Count  Dtype  \n",
      "---  ------        --------------  -----  \n",
      " 0   Macro_RT      91066 non-null  int64  \n",
      " 1   Continent     91066 non-null  int32  \n",
      " 2   Source_Group  91066 non-null  int32  \n",
      " 3   Duration      91066 non-null  int16  \n",
      " 4   Booking_time  91066 non-null  int16  \n",
      " 5   Room_Rate     91066 non-null  float64\n",
      " 6   logRoom_Rate  91066 non-null  float64\n",
      "dtypes: float64(2), int16(2), int32(2), int64(1)\n",
      "memory usage: 3.8 MB\n"
     ]
    }
   ],
   "source": [
    "departure_final.info()"
   ]
  },
  {
   "cell_type": "code",
   "execution_count": 39,
   "metadata": {},
   "outputs": [],
   "source": [
    "departure_final['logRoom_Rate'] = np.log1p(departure_final['Room_Rate'])"
   ]
  },
  {
   "cell_type": "code",
   "execution_count": 40,
   "metadata": {},
   "outputs": [],
   "source": [
    "#TRAIN TEST SPLIT"
   ]
  },
  {
   "cell_type": "code",
   "execution_count": 41,
   "metadata": {},
   "outputs": [],
   "source": [
    "train = departure_final.sample(frac=0.7,random_state=42)\n",
    "test = departure_final.drop(train.index)"
   ]
  },
  {
   "cell_type": "code",
   "execution_count": 42,
   "metadata": {},
   "outputs": [
    {
     "data": {
      "text/html": [
       "<div>\n",
       "<style scoped>\n",
       "    .dataframe tbody tr th:only-of-type {\n",
       "        vertical-align: middle;\n",
       "    }\n",
       "\n",
       "    .dataframe tbody tr th {\n",
       "        vertical-align: top;\n",
       "    }\n",
       "\n",
       "    .dataframe thead th {\n",
       "        text-align: right;\n",
       "    }\n",
       "</style>\n",
       "<table border=\"1\" class=\"dataframe\">\n",
       "  <thead>\n",
       "    <tr style=\"text-align: right;\">\n",
       "      <th></th>\n",
       "      <th>Macro_RT</th>\n",
       "      <th>Continent</th>\n",
       "      <th>Source_Group</th>\n",
       "      <th>Duration</th>\n",
       "      <th>Booking_time</th>\n",
       "      <th>Room_Rate</th>\n",
       "      <th>logRoom_Rate</th>\n",
       "    </tr>\n",
       "  </thead>\n",
       "  <tbody>\n",
       "    <tr>\n",
       "      <th>33603</th>\n",
       "      <td>2</td>\n",
       "      <td>4</td>\n",
       "      <td>0</td>\n",
       "      <td>2</td>\n",
       "      <td>11</td>\n",
       "      <td>5779.15</td>\n",
       "      <td>8.662185</td>\n",
       "    </tr>\n",
       "    <tr>\n",
       "      <th>33490</th>\n",
       "      <td>1</td>\n",
       "      <td>4</td>\n",
       "      <td>2</td>\n",
       "      <td>1</td>\n",
       "      <td>10</td>\n",
       "      <td>8000.00</td>\n",
       "      <td>8.987322</td>\n",
       "    </tr>\n",
       "    <tr>\n",
       "      <th>19952</th>\n",
       "      <td>1</td>\n",
       "      <td>4</td>\n",
       "      <td>2</td>\n",
       "      <td>1</td>\n",
       "      <td>0</td>\n",
       "      <td>4547.33</td>\n",
       "      <td>8.422515</td>\n",
       "    </tr>\n",
       "    <tr>\n",
       "      <th>63232</th>\n",
       "      <td>1</td>\n",
       "      <td>4</td>\n",
       "      <td>0</td>\n",
       "      <td>1</td>\n",
       "      <td>0</td>\n",
       "      <td>4696.23</td>\n",
       "      <td>8.454728</td>\n",
       "    </tr>\n",
       "    <tr>\n",
       "      <th>18153</th>\n",
       "      <td>1</td>\n",
       "      <td>4</td>\n",
       "      <td>2</td>\n",
       "      <td>1</td>\n",
       "      <td>1</td>\n",
       "      <td>5500.00</td>\n",
       "      <td>8.612685</td>\n",
       "    </tr>\n",
       "  </tbody>\n",
       "</table>\n",
       "</div>"
      ],
      "text/plain": [
       "       Macro_RT  Continent  Source_Group  Duration  Booking_time  Room_Rate  \\\n",
       "33603         2          4             0         2            11    5779.15   \n",
       "33490         1          4             2         1            10    8000.00   \n",
       "19952         1          4             2         1             0    4547.33   \n",
       "63232         1          4             0         1             0    4696.23   \n",
       "18153         1          4             2         1             1    5500.00   \n",
       "\n",
       "       logRoom_Rate  \n",
       "33603      8.662185  \n",
       "33490      8.987322  \n",
       "19952      8.422515  \n",
       "63232      8.454728  \n",
       "18153      8.612685  "
      ]
     },
     "execution_count": 42,
     "metadata": {},
     "output_type": "execute_result"
    }
   ],
   "source": [
    "train.head()"
   ]
  },
  {
   "cell_type": "code",
   "execution_count": 43,
   "metadata": {},
   "outputs": [
    {
     "data": {
      "text/html": [
       "<div>\n",
       "<style scoped>\n",
       "    .dataframe tbody tr th:only-of-type {\n",
       "        vertical-align: middle;\n",
       "    }\n",
       "\n",
       "    .dataframe tbody tr th {\n",
       "        vertical-align: top;\n",
       "    }\n",
       "\n",
       "    .dataframe thead th {\n",
       "        text-align: right;\n",
       "    }\n",
       "</style>\n",
       "<table border=\"1\" class=\"dataframe\">\n",
       "  <thead>\n",
       "    <tr style=\"text-align: right;\">\n",
       "      <th></th>\n",
       "      <th>Macro_RT</th>\n",
       "      <th>Continent</th>\n",
       "      <th>Source_Group</th>\n",
       "      <th>Duration</th>\n",
       "      <th>Booking_time</th>\n",
       "      <th>Room_Rate</th>\n",
       "      <th>logRoom_Rate</th>\n",
       "    </tr>\n",
       "  </thead>\n",
       "  <tbody>\n",
       "    <tr>\n",
       "      <th>2</th>\n",
       "      <td>1</td>\n",
       "      <td>4</td>\n",
       "      <td>2</td>\n",
       "      <td>4</td>\n",
       "      <td>5</td>\n",
       "      <td>5000.00</td>\n",
       "      <td>8.517393</td>\n",
       "    </tr>\n",
       "    <tr>\n",
       "      <th>5</th>\n",
       "      <td>1</td>\n",
       "      <td>4</td>\n",
       "      <td>0</td>\n",
       "      <td>1</td>\n",
       "      <td>3</td>\n",
       "      <td>4399.21</td>\n",
       "      <td>8.389408</td>\n",
       "    </tr>\n",
       "    <tr>\n",
       "      <th>14</th>\n",
       "      <td>1</td>\n",
       "      <td>4</td>\n",
       "      <td>1</td>\n",
       "      <td>1</td>\n",
       "      <td>4</td>\n",
       "      <td>4800.00</td>\n",
       "      <td>8.476580</td>\n",
       "    </tr>\n",
       "    <tr>\n",
       "      <th>15</th>\n",
       "      <td>1</td>\n",
       "      <td>4</td>\n",
       "      <td>0</td>\n",
       "      <td>2</td>\n",
       "      <td>23</td>\n",
       "      <td>5269.15</td>\n",
       "      <td>8.569814</td>\n",
       "    </tr>\n",
       "    <tr>\n",
       "      <th>16</th>\n",
       "      <td>1</td>\n",
       "      <td>4</td>\n",
       "      <td>1</td>\n",
       "      <td>1</td>\n",
       "      <td>1</td>\n",
       "      <td>4133.94</td>\n",
       "      <td>8.327228</td>\n",
       "    </tr>\n",
       "  </tbody>\n",
       "</table>\n",
       "</div>"
      ],
      "text/plain": [
       "    Macro_RT  Continent  Source_Group  Duration  Booking_time  Room_Rate  \\\n",
       "2          1          4             2         4             5    5000.00   \n",
       "5          1          4             0         1             3    4399.21   \n",
       "14         1          4             1         1             4    4800.00   \n",
       "15         1          4             0         2            23    5269.15   \n",
       "16         1          4             1         1             1    4133.94   \n",
       "\n",
       "    logRoom_Rate  \n",
       "2       8.517393  \n",
       "5       8.389408  \n",
       "14      8.476580  \n",
       "15      8.569814  \n",
       "16      8.327228  "
      ]
     },
     "execution_count": 43,
     "metadata": {},
     "output_type": "execute_result"
    }
   ],
   "source": [
    "test.head()"
   ]
  },
  {
   "cell_type": "code",
   "execution_count": 44,
   "metadata": {},
   "outputs": [],
   "source": [
    "X_train = train.drop(['Room_Rate','logRoom_Rate'],axis=1)\n",
    "y_train = train['logRoom_Rate']\n",
    "X_test = test.drop(['Room_Rate','logRoom_Rate'],axis=1)\n",
    "y_test = test['logRoom_Rate']"
   ]
  },
  {
   "cell_type": "code",
   "execution_count": 45,
   "metadata": {},
   "outputs": [],
   "source": [
    "#FITTING THE MODEL"
   ]
  },
  {
   "cell_type": "code",
   "execution_count": 46,
   "metadata": {},
   "outputs": [],
   "source": [
    "#LINEAR REGRESSION"
   ]
  },
  {
   "cell_type": "code",
   "execution_count": 47,
   "metadata": {},
   "outputs": [],
   "source": [
    "from sklearn import datasets, linear_model, metrics\n",
    "from sklearn.metrics import r2_score,mean_squared_error"
   ]
  },
  {
   "cell_type": "code",
   "execution_count": 48,
   "metadata": {},
   "outputs": [],
   "source": [
    "reg = linear_model.LinearRegression()"
   ]
  },
  {
   "cell_type": "code",
   "execution_count": 49,
   "metadata": {},
   "outputs": [
    {
     "data": {
      "text/plain": [
       "LinearRegression()"
      ]
     },
     "execution_count": 49,
     "metadata": {},
     "output_type": "execute_result"
    }
   ],
   "source": [
    "reg.fit(X_train, y_train)"
   ]
  },
  {
   "cell_type": "code",
   "execution_count": 50,
   "metadata": {},
   "outputs": [],
   "source": [
    "reg_Y_pred = reg.predict(X_test)"
   ]
  },
  {
   "cell_type": "code",
   "execution_count": 51,
   "metadata": {},
   "outputs": [
    {
     "data": {
      "text/plain": [
       "0.1267452662570535"
      ]
     },
     "execution_count": 51,
     "metadata": {},
     "output_type": "execute_result"
    }
   ],
   "source": [
    "r2 = r2_score(y_test,reg_Y_pred)\n",
    "r2"
   ]
  },
  {
   "cell_type": "code",
   "execution_count": 52,
   "metadata": {},
   "outputs": [
    {
     "data": {
      "text/plain": [
       "0.1742095671463368"
      ]
     },
     "execution_count": 52,
     "metadata": {},
     "output_type": "execute_result"
    }
   ],
   "source": [
    "mse_reg=mean_squared_error(y_test,reg_Y_pred)\n",
    "rmse_reg=np.sqrt(mse_reg)\n",
    "rmse_reg"
   ]
  },
  {
   "cell_type": "code",
   "execution_count": 53,
   "metadata": {},
   "outputs": [],
   "source": [
    "#K-FOLD"
   ]
  },
  {
   "cell_type": "code",
   "execution_count": 54,
   "metadata": {},
   "outputs": [],
   "source": [
    "from sklearn.model_selection import cross_val_score\n",
    "from sklearn import model_selection\n",
    "def kfold(departure_final, X_train, y_train, seed=7, scoring='accuracy', n_splits=10):\n",
    "    results = []\n",
    "    names = []\n",
    "    for name, model in departure_final:\n",
    "        kfold = model_selection.KFold(n_splits=n_splits, random_state=seed)\n",
    "        cv_results = model_selection.cross_val_score(departure_final, X_train, y_train, cv=kfold, scoring=scoring)\n",
    "        results.append(cv_results)\n",
    "        names.append(name)\n",
    "        msg = \"%s: %f (%f)\" % (name, cv_results.mean(), cv_results.std())\n",
    "        print(msg)"
   ]
  },
  {
   "cell_type": "code",
   "execution_count": 55,
   "metadata": {},
   "outputs": [
    {
     "data": {
      "text/plain": [
       "LinearRegression()"
      ]
     },
     "execution_count": 55,
     "metadata": {},
     "output_type": "execute_result"
    }
   ],
   "source": [
    "reg.fit(X_train, y_train)"
   ]
  },
  {
   "cell_type": "code",
   "execution_count": 56,
   "metadata": {},
   "outputs": [],
   "source": [
    "reg_Y_pred = reg.predict(X_test)"
   ]
  },
  {
   "cell_type": "code",
   "execution_count": 57,
   "metadata": {},
   "outputs": [
    {
     "data": {
      "text/plain": [
       "0.1267452662570535"
      ]
     },
     "execution_count": 57,
     "metadata": {},
     "output_type": "execute_result"
    }
   ],
   "source": [
    "r2 = r2_score(y_test,reg_Y_pred)\n",
    "r2"
   ]
  },
  {
   "cell_type": "code",
   "execution_count": 58,
   "metadata": {},
   "outputs": [
    {
     "data": {
      "text/plain": [
       "0.1742095671463368"
      ]
     },
     "execution_count": 58,
     "metadata": {},
     "output_type": "execute_result"
    }
   ],
   "source": [
    "mse_reg=mean_squared_error(y_test,reg_Y_pred)\n",
    "rmse_reg=np.sqrt(mse_reg)\n",
    "rmse_reg"
   ]
  },
  {
   "cell_type": "code",
   "execution_count": null,
   "metadata": {},
   "outputs": [],
   "source": []
  },
  {
   "cell_type": "code",
   "execution_count": null,
   "metadata": {},
   "outputs": [],
   "source": []
  }
 ],
 "metadata": {
  "kernelspec": {
   "display_name": "Python 3",
   "language": "python",
   "name": "python3"
  },
  "language_info": {
   "codemirror_mode": {
    "name": "ipython",
    "version": 3
   },
   "file_extension": ".py",
   "mimetype": "text/x-python",
   "name": "python",
   "nbconvert_exporter": "python",
   "pygments_lexer": "ipython3",
   "version": "3.8.8"
  }
 },
 "nbformat": 4,
 "nbformat_minor": 2
}
